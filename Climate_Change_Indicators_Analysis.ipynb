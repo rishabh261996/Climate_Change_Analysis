{
  "nbformat": 4,
  "nbformat_minor": 0,
  "metadata": {
    "colab": {
      "provenance": [],
      "collapsed_sections": []
    },
    "kernelspec": {
      "name": "python3",
      "display_name": "Python 3"
    },
    "language_info": {
      "name": "python"
    }
  },
  "cells": [
    {
      "cell_type": "markdown",
      "source": [
        "## Introduction\n",
        "\n",
        "\n",
        "\n",
        "\n",
        "\n",
        "As an economist at world trade/bank organization, we will be working with the country wise statistics to get the different correlation variables\n",
        "\n",
        "\n",
        "\n",
        "For an economy, its overall performance is shown by the indicators such as national income, happinesss, score, corruption level, generosity score.\n",
        "\n",
        "It is important to determine how these variables are related to each other for economics and other ways. For example, if a lower level of corruption is followed by a higher income, it would sugest the government to work onthese factors.\n",
        "\n",
        "To do so , we will be working with two dataset:\n",
        "\n",
        "climate:\n",
        "\n",
        "national income indicators;\n",
        "\n",
        "\n",
        "* One based \n",
        "https://www.kaggle.com/code/sevgisarac/climate-change\n",
        "\n",
        "https://www.kaggle.com/datasets/unsdsn/world-happiness\n",
        "\n",
        "\n",
        "Following are the questions that we would look to answer\n",
        "\n",
        "### National Indicators\n",
        "\n",
        "* Is there significant relationship between happiness score and gdp per capita?\n",
        "\n",
        "* Is there significant relationship between generosity and income\n",
        "\n",
        "* Is there significant relationship between income and corruption?\n",
        "\n",
        "\n",
        "### Climate Change:\n",
        "\n",
        "\n",
        "* Is there significant difference in mean tempersture chnage over the decade?\n",
        "\n",
        "\n",
        "\n",
        "* Is there a significance difference in temperature change for different continents.\n",
        "\n",
        "\n",
        "\n"
      ],
      "metadata": {
        "id": "QaGnG4ceilzl"
      }
    },
    {
      "cell_type": "code",
      "source": [
        "import pandas as pd\n",
        "import numpy as np\n",
        "import seaborn as sns\n",
        "import matplotlib.pyplot as plt\n",
        "import seaborn as sns\n",
        "import re\n",
        "import io\n",
        "from scipy.stats import pearsonr ,shapiro,kstest , spearmanr, kendalltau\n",
        "import warnings\n",
        "warnings.filterwarnings(\"ignore\", category=FutureWarning)\n"
      ],
      "metadata": {
        "id": "ZiwNPxghituN"
      },
      "execution_count": 1,
      "outputs": []
    },
    {
      "cell_type": "code",
      "source": [
        "from google.colab import files\n",
        "uploaded = files.upload()"
      ],
      "metadata": {
        "colab": {
          "base_uri": "https://localhost:8080/",
          "height": 108
        },
        "id": "rhHkqGlcktgA",
        "outputId": "9a88ce50-32e5-4415-9640-4e72219c57eb"
      },
      "execution_count": 2,
      "outputs": [
        {
          "output_type": "display_data",
          "data": {
            "text/plain": [
              "<IPython.core.display.HTML object>"
            ],
            "text/html": [
              "\n",
              "     <input type=\"file\" id=\"files-ed2fa4f0-4557-49f5-a6c3-2003b6bf8553\" name=\"files[]\" multiple disabled\n",
              "        style=\"border:none\" />\n",
              "     <output id=\"result-ed2fa4f0-4557-49f5-a6c3-2003b6bf8553\">\n",
              "      Upload widget is only available when the cell has been executed in the\n",
              "      current browser session. Please rerun this cell to enable.\n",
              "      </output>\n",
              "      <script>// Copyright 2017 Google LLC\n",
              "//\n",
              "// Licensed under the Apache License, Version 2.0 (the \"License\");\n",
              "// you may not use this file except in compliance with the License.\n",
              "// You may obtain a copy of the License at\n",
              "//\n",
              "//      http://www.apache.org/licenses/LICENSE-2.0\n",
              "//\n",
              "// Unless required by applicable law or agreed to in writing, software\n",
              "// distributed under the License is distributed on an \"AS IS\" BASIS,\n",
              "// WITHOUT WARRANTIES OR CONDITIONS OF ANY KIND, either express or implied.\n",
              "// See the License for the specific language governing permissions and\n",
              "// limitations under the License.\n",
              "\n",
              "/**\n",
              " * @fileoverview Helpers for google.colab Python module.\n",
              " */\n",
              "(function(scope) {\n",
              "function span(text, styleAttributes = {}) {\n",
              "  const element = document.createElement('span');\n",
              "  element.textContent = text;\n",
              "  for (const key of Object.keys(styleAttributes)) {\n",
              "    element.style[key] = styleAttributes[key];\n",
              "  }\n",
              "  return element;\n",
              "}\n",
              "\n",
              "// Max number of bytes which will be uploaded at a time.\n",
              "const MAX_PAYLOAD_SIZE = 100 * 1024;\n",
              "\n",
              "function _uploadFiles(inputId, outputId) {\n",
              "  const steps = uploadFilesStep(inputId, outputId);\n",
              "  const outputElement = document.getElementById(outputId);\n",
              "  // Cache steps on the outputElement to make it available for the next call\n",
              "  // to uploadFilesContinue from Python.\n",
              "  outputElement.steps = steps;\n",
              "\n",
              "  return _uploadFilesContinue(outputId);\n",
              "}\n",
              "\n",
              "// This is roughly an async generator (not supported in the browser yet),\n",
              "// where there are multiple asynchronous steps and the Python side is going\n",
              "// to poll for completion of each step.\n",
              "// This uses a Promise to block the python side on completion of each step,\n",
              "// then passes the result of the previous step as the input to the next step.\n",
              "function _uploadFilesContinue(outputId) {\n",
              "  const outputElement = document.getElementById(outputId);\n",
              "  const steps = outputElement.steps;\n",
              "\n",
              "  const next = steps.next(outputElement.lastPromiseValue);\n",
              "  return Promise.resolve(next.value.promise).then((value) => {\n",
              "    // Cache the last promise value to make it available to the next\n",
              "    // step of the generator.\n",
              "    outputElement.lastPromiseValue = value;\n",
              "    return next.value.response;\n",
              "  });\n",
              "}\n",
              "\n",
              "/**\n",
              " * Generator function which is called between each async step of the upload\n",
              " * process.\n",
              " * @param {string} inputId Element ID of the input file picker element.\n",
              " * @param {string} outputId Element ID of the output display.\n",
              " * @return {!Iterable<!Object>} Iterable of next steps.\n",
              " */\n",
              "function* uploadFilesStep(inputId, outputId) {\n",
              "  const inputElement = document.getElementById(inputId);\n",
              "  inputElement.disabled = false;\n",
              "\n",
              "  const outputElement = document.getElementById(outputId);\n",
              "  outputElement.innerHTML = '';\n",
              "\n",
              "  const pickedPromise = new Promise((resolve) => {\n",
              "    inputElement.addEventListener('change', (e) => {\n",
              "      resolve(e.target.files);\n",
              "    });\n",
              "  });\n",
              "\n",
              "  const cancel = document.createElement('button');\n",
              "  inputElement.parentElement.appendChild(cancel);\n",
              "  cancel.textContent = 'Cancel upload';\n",
              "  const cancelPromise = new Promise((resolve) => {\n",
              "    cancel.onclick = () => {\n",
              "      resolve(null);\n",
              "    };\n",
              "  });\n",
              "\n",
              "  // Wait for the user to pick the files.\n",
              "  const files = yield {\n",
              "    promise: Promise.race([pickedPromise, cancelPromise]),\n",
              "    response: {\n",
              "      action: 'starting',\n",
              "    }\n",
              "  };\n",
              "\n",
              "  cancel.remove();\n",
              "\n",
              "  // Disable the input element since further picks are not allowed.\n",
              "  inputElement.disabled = true;\n",
              "\n",
              "  if (!files) {\n",
              "    return {\n",
              "      response: {\n",
              "        action: 'complete',\n",
              "      }\n",
              "    };\n",
              "  }\n",
              "\n",
              "  for (const file of files) {\n",
              "    const li = document.createElement('li');\n",
              "    li.append(span(file.name, {fontWeight: 'bold'}));\n",
              "    li.append(span(\n",
              "        `(${file.type || 'n/a'}) - ${file.size} bytes, ` +\n",
              "        `last modified: ${\n",
              "            file.lastModifiedDate ? file.lastModifiedDate.toLocaleDateString() :\n",
              "                                    'n/a'} - `));\n",
              "    const percent = span('0% done');\n",
              "    li.appendChild(percent);\n",
              "\n",
              "    outputElement.appendChild(li);\n",
              "\n",
              "    const fileDataPromise = new Promise((resolve) => {\n",
              "      const reader = new FileReader();\n",
              "      reader.onload = (e) => {\n",
              "        resolve(e.target.result);\n",
              "      };\n",
              "      reader.readAsArrayBuffer(file);\n",
              "    });\n",
              "    // Wait for the data to be ready.\n",
              "    let fileData = yield {\n",
              "      promise: fileDataPromise,\n",
              "      response: {\n",
              "        action: 'continue',\n",
              "      }\n",
              "    };\n",
              "\n",
              "    // Use a chunked sending to avoid message size limits. See b/62115660.\n",
              "    let position = 0;\n",
              "    do {\n",
              "      const length = Math.min(fileData.byteLength - position, MAX_PAYLOAD_SIZE);\n",
              "      const chunk = new Uint8Array(fileData, position, length);\n",
              "      position += length;\n",
              "\n",
              "      const base64 = btoa(String.fromCharCode.apply(null, chunk));\n",
              "      yield {\n",
              "        response: {\n",
              "          action: 'append',\n",
              "          file: file.name,\n",
              "          data: base64,\n",
              "        },\n",
              "      };\n",
              "\n",
              "      let percentDone = fileData.byteLength === 0 ?\n",
              "          100 :\n",
              "          Math.round((position / fileData.byteLength) * 100);\n",
              "      percent.textContent = `${percentDone}% done`;\n",
              "\n",
              "    } while (position < fileData.byteLength);\n",
              "  }\n",
              "\n",
              "  // All done.\n",
              "  yield {\n",
              "    response: {\n",
              "      action: 'complete',\n",
              "    }\n",
              "  };\n",
              "}\n",
              "\n",
              "scope.google = scope.google || {};\n",
              "scope.google.colab = scope.google.colab || {};\n",
              "scope.google.colab._files = {\n",
              "  _uploadFiles,\n",
              "  _uploadFilesContinue,\n",
              "};\n",
              "})(self);\n",
              "</script> "
            ]
          },
          "metadata": {}
        },
        {
          "output_type": "stream",
          "name": "stdout",
          "text": [
            "Saving Temperature_change_Data.csv to Temperature_change_Data.csv\n",
            "Saving 2015.csv to 2015.csv\n"
          ]
        }
      ]
    },
    {
      "cell_type": "code",
      "source": [
        "df  = pd.read_csv('2015.csv')\n",
        "df1 = pd.read_csv('Temperature_change_Data.csv')"
      ],
      "metadata": {
        "id": "8kAQoUiEku_A"
      },
      "execution_count": 3,
      "outputs": []
    },
    {
      "cell_type": "code",
      "source": [
        "df.head()"
      ],
      "metadata": {
        "colab": {
          "base_uri": "https://localhost:8080/",
          "height": 372
        },
        "id": "ObrWmUd3k77b",
        "outputId": "ac89ba97-3273-49cd-eab6-8b21541c6ed5"
      },
      "execution_count": 4,
      "outputs": [
        {
          "output_type": "execute_result",
          "data": {
            "text/plain": [
              "       Country          Region  Happiness Rank  Happiness Score  \\\n",
              "0  Switzerland  Western Europe               1            7.587   \n",
              "1      Iceland  Western Europe               2            7.561   \n",
              "2      Denmark  Western Europe               3            7.527   \n",
              "3       Norway  Western Europe               4            7.522   \n",
              "4       Canada   North America               5            7.427   \n",
              "\n",
              "   Standard Error  Economy (GDP per Capita)   Family  \\\n",
              "0         0.03411                   1.39651  1.34951   \n",
              "1         0.04884                   1.30232  1.40223   \n",
              "2         0.03328                   1.32548  1.36058   \n",
              "3         0.03880                   1.45900  1.33095   \n",
              "4         0.03553                   1.32629  1.32261   \n",
              "\n",
              "   Health (Life Expectancy)  Freedom  Trust (Government Corruption)  \\\n",
              "0                   0.94143  0.66557                        0.41978   \n",
              "1                   0.94784  0.62877                        0.14145   \n",
              "2                   0.87464  0.64938                        0.48357   \n",
              "3                   0.88521  0.66973                        0.36503   \n",
              "4                   0.90563  0.63297                        0.32957   \n",
              "\n",
              "   Generosity  Dystopia Residual  \n",
              "0     0.29678            2.51738  \n",
              "1     0.43630            2.70201  \n",
              "2     0.34139            2.49204  \n",
              "3     0.34699            2.46531  \n",
              "4     0.45811            2.45176  "
            ],
            "text/html": [
              "\n",
              "  <div id=\"df-69d0d46e-0ae0-40f0-b860-ee55e504bc49\">\n",
              "    <div class=\"colab-df-container\">\n",
              "      <div>\n",
              "<style scoped>\n",
              "    .dataframe tbody tr th:only-of-type {\n",
              "        vertical-align: middle;\n",
              "    }\n",
              "\n",
              "    .dataframe tbody tr th {\n",
              "        vertical-align: top;\n",
              "    }\n",
              "\n",
              "    .dataframe thead th {\n",
              "        text-align: right;\n",
              "    }\n",
              "</style>\n",
              "<table border=\"1\" class=\"dataframe\">\n",
              "  <thead>\n",
              "    <tr style=\"text-align: right;\">\n",
              "      <th></th>\n",
              "      <th>Country</th>\n",
              "      <th>Region</th>\n",
              "      <th>Happiness Rank</th>\n",
              "      <th>Happiness Score</th>\n",
              "      <th>Standard Error</th>\n",
              "      <th>Economy (GDP per Capita)</th>\n",
              "      <th>Family</th>\n",
              "      <th>Health (Life Expectancy)</th>\n",
              "      <th>Freedom</th>\n",
              "      <th>Trust (Government Corruption)</th>\n",
              "      <th>Generosity</th>\n",
              "      <th>Dystopia Residual</th>\n",
              "    </tr>\n",
              "  </thead>\n",
              "  <tbody>\n",
              "    <tr>\n",
              "      <th>0</th>\n",
              "      <td>Switzerland</td>\n",
              "      <td>Western Europe</td>\n",
              "      <td>1</td>\n",
              "      <td>7.587</td>\n",
              "      <td>0.03411</td>\n",
              "      <td>1.39651</td>\n",
              "      <td>1.34951</td>\n",
              "      <td>0.94143</td>\n",
              "      <td>0.66557</td>\n",
              "      <td>0.41978</td>\n",
              "      <td>0.29678</td>\n",
              "      <td>2.51738</td>\n",
              "    </tr>\n",
              "    <tr>\n",
              "      <th>1</th>\n",
              "      <td>Iceland</td>\n",
              "      <td>Western Europe</td>\n",
              "      <td>2</td>\n",
              "      <td>7.561</td>\n",
              "      <td>0.04884</td>\n",
              "      <td>1.30232</td>\n",
              "      <td>1.40223</td>\n",
              "      <td>0.94784</td>\n",
              "      <td>0.62877</td>\n",
              "      <td>0.14145</td>\n",
              "      <td>0.43630</td>\n",
              "      <td>2.70201</td>\n",
              "    </tr>\n",
              "    <tr>\n",
              "      <th>2</th>\n",
              "      <td>Denmark</td>\n",
              "      <td>Western Europe</td>\n",
              "      <td>3</td>\n",
              "      <td>7.527</td>\n",
              "      <td>0.03328</td>\n",
              "      <td>1.32548</td>\n",
              "      <td>1.36058</td>\n",
              "      <td>0.87464</td>\n",
              "      <td>0.64938</td>\n",
              "      <td>0.48357</td>\n",
              "      <td>0.34139</td>\n",
              "      <td>2.49204</td>\n",
              "    </tr>\n",
              "    <tr>\n",
              "      <th>3</th>\n",
              "      <td>Norway</td>\n",
              "      <td>Western Europe</td>\n",
              "      <td>4</td>\n",
              "      <td>7.522</td>\n",
              "      <td>0.03880</td>\n",
              "      <td>1.45900</td>\n",
              "      <td>1.33095</td>\n",
              "      <td>0.88521</td>\n",
              "      <td>0.66973</td>\n",
              "      <td>0.36503</td>\n",
              "      <td>0.34699</td>\n",
              "      <td>2.46531</td>\n",
              "    </tr>\n",
              "    <tr>\n",
              "      <th>4</th>\n",
              "      <td>Canada</td>\n",
              "      <td>North America</td>\n",
              "      <td>5</td>\n",
              "      <td>7.427</td>\n",
              "      <td>0.03553</td>\n",
              "      <td>1.32629</td>\n",
              "      <td>1.32261</td>\n",
              "      <td>0.90563</td>\n",
              "      <td>0.63297</td>\n",
              "      <td>0.32957</td>\n",
              "      <td>0.45811</td>\n",
              "      <td>2.45176</td>\n",
              "    </tr>\n",
              "  </tbody>\n",
              "</table>\n",
              "</div>\n",
              "      <button class=\"colab-df-convert\" onclick=\"convertToInteractive('df-69d0d46e-0ae0-40f0-b860-ee55e504bc49')\"\n",
              "              title=\"Convert this dataframe to an interactive table.\"\n",
              "              style=\"display:none;\">\n",
              "        \n",
              "  <svg xmlns=\"http://www.w3.org/2000/svg\" height=\"24px\"viewBox=\"0 0 24 24\"\n",
              "       width=\"24px\">\n",
              "    <path d=\"M0 0h24v24H0V0z\" fill=\"none\"/>\n",
              "    <path d=\"M18.56 5.44l.94 2.06.94-2.06 2.06-.94-2.06-.94-.94-2.06-.94 2.06-2.06.94zm-11 1L8.5 8.5l.94-2.06 2.06-.94-2.06-.94L8.5 2.5l-.94 2.06-2.06.94zm10 10l.94 2.06.94-2.06 2.06-.94-2.06-.94-.94-2.06-.94 2.06-2.06.94z\"/><path d=\"M17.41 7.96l-1.37-1.37c-.4-.4-.92-.59-1.43-.59-.52 0-1.04.2-1.43.59L10.3 9.45l-7.72 7.72c-.78.78-.78 2.05 0 2.83L4 21.41c.39.39.9.59 1.41.59.51 0 1.02-.2 1.41-.59l7.78-7.78 2.81-2.81c.8-.78.8-2.07 0-2.86zM5.41 20L4 18.59l7.72-7.72 1.47 1.35L5.41 20z\"/>\n",
              "  </svg>\n",
              "      </button>\n",
              "      \n",
              "  <style>\n",
              "    .colab-df-container {\n",
              "      display:flex;\n",
              "      flex-wrap:wrap;\n",
              "      gap: 12px;\n",
              "    }\n",
              "\n",
              "    .colab-df-convert {\n",
              "      background-color: #E8F0FE;\n",
              "      border: none;\n",
              "      border-radius: 50%;\n",
              "      cursor: pointer;\n",
              "      display: none;\n",
              "      fill: #1967D2;\n",
              "      height: 32px;\n",
              "      padding: 0 0 0 0;\n",
              "      width: 32px;\n",
              "    }\n",
              "\n",
              "    .colab-df-convert:hover {\n",
              "      background-color: #E2EBFA;\n",
              "      box-shadow: 0px 1px 2px rgba(60, 64, 67, 0.3), 0px 1px 3px 1px rgba(60, 64, 67, 0.15);\n",
              "      fill: #174EA6;\n",
              "    }\n",
              "\n",
              "    [theme=dark] .colab-df-convert {\n",
              "      background-color: #3B4455;\n",
              "      fill: #D2E3FC;\n",
              "    }\n",
              "\n",
              "    [theme=dark] .colab-df-convert:hover {\n",
              "      background-color: #434B5C;\n",
              "      box-shadow: 0px 1px 3px 1px rgba(0, 0, 0, 0.15);\n",
              "      filter: drop-shadow(0px 1px 2px rgba(0, 0, 0, 0.3));\n",
              "      fill: #FFFFFF;\n",
              "    }\n",
              "  </style>\n",
              "\n",
              "      <script>\n",
              "        const buttonEl =\n",
              "          document.querySelector('#df-69d0d46e-0ae0-40f0-b860-ee55e504bc49 button.colab-df-convert');\n",
              "        buttonEl.style.display =\n",
              "          google.colab.kernel.accessAllowed ? 'block' : 'none';\n",
              "\n",
              "        async function convertToInteractive(key) {\n",
              "          const element = document.querySelector('#df-69d0d46e-0ae0-40f0-b860-ee55e504bc49');\n",
              "          const dataTable =\n",
              "            await google.colab.kernel.invokeFunction('convertToInteractive',\n",
              "                                                     [key], {});\n",
              "          if (!dataTable) return;\n",
              "\n",
              "          const docLinkHtml = 'Like what you see? Visit the ' +\n",
              "            '<a target=\"_blank\" href=https://colab.research.google.com/notebooks/data_table.ipynb>data table notebook</a>'\n",
              "            + ' to learn more about interactive tables.';\n",
              "          element.innerHTML = '';\n",
              "          dataTable['output_type'] = 'display_data';\n",
              "          await google.colab.output.renderOutput(dataTable, element);\n",
              "          const docLink = document.createElement('div');\n",
              "          docLink.innerHTML = docLinkHtml;\n",
              "          element.appendChild(docLink);\n",
              "        }\n",
              "      </script>\n",
              "    </div>\n",
              "  </div>\n",
              "  "
            ]
          },
          "metadata": {},
          "execution_count": 4
        }
      ]
    },
    {
      "cell_type": "code",
      "source": [
        "# look at the info\n",
        "df.info()"
      ],
      "metadata": {
        "colab": {
          "base_uri": "https://localhost:8080/"
        },
        "id": "puktiZOxk9YG",
        "outputId": "f234bbbe-9073-42b5-c447-0b417c71eec5"
      },
      "execution_count": 5,
      "outputs": [
        {
          "output_type": "stream",
          "name": "stdout",
          "text": [
            "<class 'pandas.core.frame.DataFrame'>\n",
            "RangeIndex: 158 entries, 0 to 157\n",
            "Data columns (total 12 columns):\n",
            " #   Column                         Non-Null Count  Dtype  \n",
            "---  ------                         --------------  -----  \n",
            " 0   Country                        158 non-null    object \n",
            " 1   Region                         158 non-null    object \n",
            " 2   Happiness Rank                 158 non-null    int64  \n",
            " 3   Happiness Score                158 non-null    float64\n",
            " 4   Standard Error                 158 non-null    float64\n",
            " 5   Economy (GDP per Capita)       158 non-null    float64\n",
            " 6   Family                         158 non-null    float64\n",
            " 7   Health (Life Expectancy)       158 non-null    float64\n",
            " 8   Freedom                        158 non-null    float64\n",
            " 9   Trust (Government Corruption)  158 non-null    float64\n",
            " 10  Generosity                     158 non-null    float64\n",
            " 11  Dystopia Residual              158 non-null    float64\n",
            "dtypes: float64(9), int64(1), object(2)\n",
            "memory usage: 14.9+ KB\n"
          ]
        }
      ]
    },
    {
      "cell_type": "markdown",
      "source": [
        "### Is there significant relationship between happiness score and gdp per capita?\n",
        "\n",
        "We will be using scatterplot and also, look at the  shapiro-wilk test as well. This tests the null hypothesis that the data was drawn from a normal distribution.\n"
      ],
      "metadata": {
        "id": "ZeatVFRMmODl"
      }
    },
    {
      "cell_type": "markdown",
      "source": [
        "### Testing Normality for happiness score"
      ],
      "metadata": {
        "id": "qYS6TRZx7x-N"
      }
    },
    {
      "cell_type": "code",
      "source": [
        "# let us create a function for normality and correlation\n",
        "def is_normal(var):\n",
        "  if shapiro(var)[1]< 0.05:\n",
        "    print(\"we reject the null hypothesis of normality\")\n",
        "  else:\n",
        "     print(\"there is normality present in the data\")  "
      ],
      "metadata": {
        "id": "7ywRCLsQEmNA"
      },
      "execution_count": 6,
      "outputs": []
    },
    {
      "cell_type": "code",
      "source": [
        "# we will first check for presence of normality in both variables\n",
        "df['Happiness Score'].plot(kind='hist')"
      ],
      "metadata": {
        "colab": {
          "base_uri": "https://localhost:8080/",
          "height": 282
        },
        "id": "KDRx5ufdmKn-",
        "outputId": "40b2e080-e53b-4ad8-da25-0bffc882dd7a"
      },
      "execution_count": 7,
      "outputs": [
        {
          "output_type": "execute_result",
          "data": {
            "text/plain": [
              "<matplotlib.axes._subplots.AxesSubplot at 0x7f7189203550>"
            ]
          },
          "metadata": {},
          "execution_count": 7
        },
        {
          "output_type": "display_data",
          "data": {
            "text/plain": [
              "<Figure size 432x288 with 1 Axes>"
            ],
            "image/png": "[encoded data removed]"
          },
          "metadata": {
            "needs_background": "light"
          }
        }
      ]
    },
    {
      "cell_type": "code",
      "source": [
        "# look at the normality test\n",
        "is_normal(df['Happiness Score'])"
      ],
      "metadata": {
        "colab": {
          "base_uri": "https://localhost:8080/"
        },
        "id": "GeOGbK0wmnpX",
        "outputId": "c501a514-9dcb-4c89-ae21-9de53769400c"
      },
      "execution_count": 8,
      "outputs": [
        {
          "output_type": "stream",
          "name": "stdout",
          "text": [
            "we reject the null hypothesis of normality\n"
          ]
        }
      ]
    },
    {
      "cell_type": "markdown",
      "source": [
        "Another test is  [kstesta Kolmogorov-Smirnov Test](https://docs.scipy.org/doc/scipy/reference/generated/scipy.stats.kstest.html)"
      ],
      "metadata": {
        "id": "wm8bJaq1oCk1"
      }
    },
    {
      "cell_type": "code",
      "source": [
        "# let us conduct it too\n",
        "from scipy.stats import norm\n",
        "kstest(df['Happiness Score'],norm.cdf)"
      ],
      "metadata": {
        "colab": {
          "base_uri": "https://localhost:8080/"
        },
        "id": "2yMCKn9GnxhK",
        "outputId": "e3ed294a-7a28-4b29-c27a-25927b6b49e2"
      },
      "execution_count": 9,
      "outputs": [
        {
          "output_type": "execute_result",
          "data": {
            "text/plain": [
              "KstestResult(statistic=0.9977372421542715, pvalue=0.0)"
            ]
          },
          "metadata": {},
          "execution_count": 9
        }
      ]
    },
    {
      "cell_type": "markdown",
      "source": [
        "So, it is non-normal using the tests available."
      ],
      "metadata": {
        "id": "ABXtcEIiFvUM"
      }
    },
    {
      "cell_type": "markdown",
      "source": [
        "#### Look for normality in GDP per capita"
      ],
      "metadata": {
        "id": "y_5N-bY998oJ"
      }
    },
    {
      "cell_type": "code",
      "source": [
        "# look at the histogram\n",
        "plt.hist(df['Economy (GDP per Capita)'])"
      ],
      "metadata": {
        "colab": {
          "base_uri": "https://localhost:8080/",
          "height": 334
        },
        "id": "xTYvhiFn_nHk",
        "outputId": "c4a212d7-243f-4dbe-f70f-7853522c7243"
      },
      "execution_count": 10,
      "outputs": [
        {
          "output_type": "execute_result",
          "data": {
            "text/plain": [
              "(array([ 7., 17., 14., 14., 19., 24., 26., 26.,  7.,  4.]),\n",
              " array([0.      , 0.169042, 0.338084, 0.507126, 0.676168, 0.84521 ,\n",
              "        1.014252, 1.183294, 1.352336, 1.521378, 1.69042 ]),\n",
              " <a list of 10 Patch objects>)"
            ]
          },
          "metadata": {},
          "execution_count": 10
        },
        {
          "output_type": "display_data",
          "data": {
            "text/plain": [
              "<Figure size 432x288 with 1 Axes>"
            ],
            "image/png": "[encoded data removed]"
          },
          "metadata": {
            "needs_background": "light"
          }
        }
      ]
    },
    {
      "cell_type": "code",
      "source": [
        "# using shapiro test\n",
        "stat , p_val = shapiro(df['Economy (GDP per Capita)'])\n",
        "if p_val<0.05:\n",
        "  print(\"We reject the presence of normality in the GDP per capita feature\")\n",
        "else:\n",
        "  print(\"The given dataset comes from normality\")  "
      ],
      "metadata": {
        "colab": {
          "base_uri": "https://localhost:8080/"
        },
        "id": "dnNI-3hF95ni",
        "outputId": "7348dbfc-470e-4352-d8c1-7a92937731d7"
      },
      "execution_count": 11,
      "outputs": [
        {
          "output_type": "stream",
          "name": "stdout",
          "text": [
            "We reject the presence of normality in the GDP per capita feature\n"
          ]
        }
      ]
    },
    {
      "cell_type": "markdown",
      "source": [
        "###  Correlation\n",
        "\n",
        "It is the way we gauge the association /movement between two variables. There are mainly three types:\n",
        "\n",
        "a) [Pearsonr](https://docs.scipy.org/doc/scipy/reference/generated/scipy.stats.pearsonr.html)\n",
        "\n",
        "b) [Spearmanr](https://docs.scipy.org/doc/scipy/reference/generated/scipy.stats.spearmanr.html)\n",
        "\n",
        "c) [Kendalltau](https://docs.scipy.org/doc/scipy/reference/generated/scipy.stats.kendalltau.html)\n",
        "\n",
        "Since the  both features are not normal and pearsonr correlation uses mean value in its calculation, using pearsonr correlation would lead to biased results. Therefore, parametric test pearsonr (which is gauge of linear relationship) , can not be applied here. \n",
        "\n",
        " Coming to its alternative, we have two parametric methods/tests:\n",
        "\n",
        "* Spearman\n",
        "* Kendell\n",
        "\n",
        "Both work similar to pearsonr. However, they first convert the real values of dataset into ranking and then, gauges the correlation between them."
      ],
      "metadata": {
        "id": "FVq2O9lOpEpI"
      }
    },
    {
      "cell_type": "markdown",
      "source": [
        "Let us define the function which tells us whether there is correlation present using non-parametric way(kendell and spearman)\n"
      ],
      "metadata": {
        "id": "jtsoMQwKF5tv"
      }
    },
    {
      "cell_type": "code",
      "source": [
        "def corr_sig_non_para(val1,val2):\n",
        "  \"\"\"\n",
        "  This function will give us correlation for two variables using spearman and kendell methods\n",
        "  \"\"\"\n",
        "  cor, p_val = spearmanr(val1,val2)\n",
        "  # using spearman method\n",
        "  if p_val < 0.05:\n",
        "    print(\"There is a significant correlation of  {} between the given number of variables using spearman method \".format(cor))\n",
        "  else:\n",
        "    print(\"Since the correlation value is quite negligible and equal to {} ,there is no significant correlation between these variables using  spearman method\".format(cor))\n",
        "  # using kendell    \n",
        "  cor1, p_val1  =  kendalltau(val1,val2)\n",
        "  if p_val1 < 0.05:\n",
        "    print(\"There is a significant correlation of  {} between the given number of variables using kendell method\".format(cor1))\n",
        "  else:\n",
        "    print(\" Since the correlation value is quite negligible and equal to {} ,there is no significant correlation between these variables using  kendell method\".format(cor1))"
      ],
      "metadata": {
        "id": "PTSXqsuyGFKC"
      },
      "execution_count": 12,
      "outputs": []
    },
    {
      "cell_type": "code",
      "source": [
        "corr_sig_non_para(df['Happiness Score'],df['Economy (GDP per Capita)'])"
      ],
      "metadata": {
        "colab": {
          "base_uri": "https://localhost:8080/"
        },
        "id": "9K1qcX9YHIOj",
        "outputId": "9c55b6d5-d559-42ed-f2a7-83019899a7c5"
      },
      "execution_count": 13,
      "outputs": [
        {
          "output_type": "stream",
          "name": "stdout",
          "text": [
            "There is a significant correlation of  0.7957028014396273 between the given number of variables using spearman method \n",
            "There is a significant correlation of  0.5929449712538652 between the given number of variables using kendell method\n"
          ]
        }
      ]
    },
    {
      "cell_type": "code",
      "source": [
        "# look at the scatterplot too\n",
        "sns.scatterplot(df['Happiness Score'],df['Economy (GDP per Capita)'])\n",
        "plt.title(\"Scatterplot Diagram\",fontsize=13)"
      ],
      "metadata": {
        "colab": {
          "base_uri": "https://localhost:8080/",
          "height": 312
        },
        "id": "CeoVCot19IA5",
        "outputId": "2eefaec7-0adb-4baf-f1e4-847177e61de1"
      },
      "execution_count": 14,
      "outputs": [
        {
          "output_type": "execute_result",
          "data": {
            "text/plain": [
              "Text(0.5, 1.0, 'Scatterplot Diagram')"
            ]
          },
          "metadata": {},
          "execution_count": 14
        },
        {
          "output_type": "display_data",
          "data": {
            "text/plain": [
              "<Figure size 432x288 with 1 Axes>"
            ],
            "image/png": "[encoded data removed]"
          },
          "metadata": {
            "needs_background": "light"
          }
        }
      ]
    },
    {
      "cell_type": "markdown",
      "source": [
        "Since here we do not use pearsonr which gauges the linear relationship , we cannot say there is a linear relation by test itself.\n",
        "\n",
        "However, by kendall and spearmanr tests, it can be said that there is a significant monotic and positive relationship (it could be linear or non-linear).\n",
        "\n",
        "Note: Both kendall and spearman are calculated differently (one mainly ranking and another using pair of observations at once and then see the difference in sign).\n",
        "\n",
        "\n",
        "\n",
        "\n"
      ],
      "metadata": {
        "id": "PCbVCjxP6U6J"
      }
    },
    {
      "cell_type": "markdown",
      "source": [
        "#### Second question: Is there significant relationship between generosity and income?\n",
        "\n"
      ],
      "metadata": {
        "id": "YesUahAHBIVX"
      }
    },
    {
      "cell_type": "code",
      "source": [
        "# checking for normality using the pre-defined function\n",
        "is_normal(df['Generosity']) \n",
        "is_normal(df['Economy (GDP per Capita)'])"
      ],
      "metadata": {
        "colab": {
          "base_uri": "https://localhost:8080/"
        },
        "id": "SB57Oz_cBQ-v",
        "outputId": "c477ab18-7558-4d6a-bad6-93b2ffaa039d"
      },
      "execution_count": 15,
      "outputs": [
        {
          "output_type": "stream",
          "name": "stdout",
          "text": [
            "we reject the null hypothesis of normality\n",
            "we reject the null hypothesis of normality\n"
          ]
        }
      ]
    },
    {
      "cell_type": "markdown",
      "source": [
        "Thus, both are non-normal, which makes it not possible to test correlation using pearson. Let us use the defined method for non-parametric correlation\n",
        ":"
      ],
      "metadata": {
        "id": "EA9najvxFZLC"
      }
    },
    {
      "cell_type": "code",
      "source": [
        "# using method already defined\n",
        "corr_sig_non_para(df['Generosity'],df['Economy (GDP per Capita)'])"
      ],
      "metadata": {
        "colab": {
          "base_uri": "https://localhost:8080/"
        },
        "id": "-LSWDPxGEN8I",
        "outputId": "e40977d6-af25-4c7b-ae15-f9e7913fd2bd"
      },
      "execution_count": 16,
      "outputs": [
        {
          "output_type": "stream",
          "name": "stdout",
          "text": [
            "Since the correlation value is quite negligible and equal to 0.012481764150182775 ,there is no significant correlation between these variables using  spearman method\n",
            " Since the correlation value is quite negligible and equal to -0.005240667580424092 ,there is no significant correlation between these variables using  kendell method\n"
          ]
        }
      ]
    },
    {
      "cell_type": "code",
      "source": [
        "# to confirm it we will use scatterplot\n",
        "sns.scatterplot(df['Generosity'],df['Economy (GDP per Capita)'])"
      ],
      "metadata": {
        "colab": {
          "base_uri": "https://localhost:8080/",
          "height": 297
        },
        "id": "63J13PzhESVp",
        "outputId": "4e8bf231-8ed7-4dd4-c381-280a79c219ee"
      },
      "execution_count": 17,
      "outputs": [
        {
          "output_type": "execute_result",
          "data": {
            "text/plain": [
              "<matplotlib.axes._subplots.AxesSubplot at 0x7f7188b3b210>"
            ]
          },
          "metadata": {},
          "execution_count": 17
        },
        {
          "output_type": "display_data",
          "data": {
            "text/plain": [
              "<Figure size 432x288 with 1 Axes>"
            ],
            "image/png": "[encoded data removed]"
          },
          "metadata": {
            "needs_background": "light"
          }
        }
      ]
    },
    {
      "cell_type": "markdown",
      "source": [
        "From the above analysis and charts, it can be see that the generosity is not correlated with the income level. That is, one cannot say that a higher income level is associated with a higher generosity."
      ],
      "metadata": {
        "id": "IQOKiBUAJfBy"
      }
    },
    {
      "cell_type": "markdown",
      "source": [
        "#### Is there significance relationship between income and corruption level."
      ],
      "metadata": {
        "id": "Z4-3AINRJ--T"
      }
    },
    {
      "cell_type": "code",
      "source": [
        "df.columns"
      ],
      "metadata": {
        "colab": {
          "base_uri": "https://localhost:8080/"
        },
        "id": "xC2xsy0wLlR1",
        "outputId": "0c0babb7-0ad3-4b98-cb7e-309a3c9e8674"
      },
      "execution_count": 18,
      "outputs": [
        {
          "output_type": "execute_result",
          "data": {
            "text/plain": [
              "Index(['Country', 'Region', 'Happiness Rank', 'Happiness Score',\n",
              "       'Standard Error', 'Economy (GDP per Capita)', 'Family',\n",
              "       'Health (Life Expectancy)', 'Freedom', 'Trust (Government Corruption)',\n",
              "       'Generosity', 'Dystopia Residual'],\n",
              "      dtype='object')"
            ]
          },
          "metadata": {},
          "execution_count": 18
        }
      ]
    },
    {
      "cell_type": "code",
      "source": [
        "# look for normality\n",
        "is_normal(df['Economy (GDP per Capita)'])\n",
        "is_normal(df['Trust (Government Corruption)'])"
      ],
      "metadata": {
        "colab": {
          "base_uri": "https://localhost:8080/"
        },
        "id": "U9j5gis9Jb8U",
        "outputId": "388a39e1-d343-41e3-c46a-99dc3e030238"
      },
      "execution_count": 19,
      "outputs": [
        {
          "output_type": "stream",
          "name": "stdout",
          "text": [
            "we reject the null hypothesis of normality\n",
            "we reject the null hypothesis of normality\n"
          ]
        }
      ]
    },
    {
      "cell_type": "code",
      "source": [
        "# getting correlation using non-parametric test\n",
        "\n",
        "corr_sig_non_para(df['Economy (GDP per Capita)'],df['Trust (Government Corruption)'])"
      ],
      "metadata": {
        "colab": {
          "base_uri": "https://localhost:8080/"
        },
        "id": "9_OQKmiwLxDV",
        "outputId": "03ccf57d-d4dc-4f7c-ab38-7a25bde0ea6c"
      },
      "execution_count": 20,
      "outputs": [
        {
          "output_type": "stream",
          "name": "stdout",
          "text": [
            "There is a significant correlation of  0.22767485321942788 between the given number of variables using spearman method \n",
            "There is a significant correlation of  0.14255190497373316 between the given number of variables using kendell method\n"
          ]
        }
      ]
    },
    {
      "cell_type": "code",
      "source": [
        "# to confirm it we will use scatterplot\n",
        "sns.scatterplot(df['Trust (Government Corruption)'],df['Economy (GDP per Capita)'])"
      ],
      "metadata": {
        "colab": {
          "base_uri": "https://localhost:8080/",
          "height": 297
        },
        "id": "NjW5eBZHL8W0",
        "outputId": "bc444795-7fe8-43dd-dcfd-aec283c57650"
      },
      "execution_count": 21,
      "outputs": [
        {
          "output_type": "execute_result",
          "data": {
            "text/plain": [
              "<matplotlib.axes._subplots.AxesSubplot at 0x7f7188ac3e90>"
            ]
          },
          "metadata": {},
          "execution_count": 21
        },
        {
          "output_type": "display_data",
          "data": {
            "text/plain": [
              "<Figure size 432x288 with 1 Axes>"
            ],
            "image/png": "[encoded data removed]"
          },
          "metadata": {
            "needs_background": "light"
          }
        }
      ]
    },
    {
      "cell_type": "markdown",
      "source": [
        "As we can see there is presence of mild and significant correlation between income and government corruption."
      ],
      "metadata": {
        "id": "sYHfiRQBARfa"
      }
    },
    {
      "cell_type": "code",
      "source": [
        "def pearson_r(var1,var2):\n",
        "  \"\"\" \n",
        "  It will give us the correlation for the variables meeting the conditions/ assumptions of normal distribution\n",
        "  \"\"\"\n",
        "  cor1, p_val1  =  pearsonr(val1,val2)\n",
        "  if p_val1 < 0.05:\n",
        "    print(\"There is a significant correlation of  {} between the given number of variables using pearsonr method\".format(cor1))\n",
        "  else:\n",
        "    print(\" Since the correlation value is quite negligible and equal to {} ,there is no significant correlation between these variables using  pearsonr method\".format(cor1))\n",
        "  _"
      ],
      "metadata": {
        "id": "17g_nqZ8AkPZ"
      },
      "execution_count": 53,
      "outputs": []
    },
    {
      "cell_type": "code",
      "source": [
        "# let us create a function for normality and correlation\n",
        "def var_corr_test(var1, var2):\n",
        "\n",
        "  \"\"\"\n",
        "\n",
        "It will check for normality, based on the results derived we would be using anyone of the three methods of correlation\n",
        "\"\"\"\n",
        "  if shapiro(var1)[1]< 0.05 and shapiro(var2)[1] <0.05:\n",
        "    print(\"we reject the null hypothesis of normality\")\n",
        "    #var1  = input(\"which feature would be chosen\")\n",
        "    #var2 = input(\"which feature other the above one would be chosen\")\n",
        "    #if var1 != var2:\n",
        "    corr_sig_non_para(var1,var2)\n",
        "    #else:\n",
        "    #print('The features should be different')  \n",
        "\n",
        "  else:\n",
        "     print(\"there is normality present in the data so we will be using the pearon_r test\")\n",
        "     pearson_r(var1,var2)"
      ],
      "metadata": {
        "id": "syXU32-0KvB_"
      },
      "execution_count": 54,
      "outputs": []
    },
    {
      "cell_type": "markdown",
      "source": [
        "### Climate Change:\n",
        "\n",
        "\n",
        "Now, its time to look at the  climate change over time. With regard to it, we will try to answer the following questions:\n",
        "\n",
        "* Is there a significant difference in mean temperature change decade wise?\n",
        "\n",
        "* Is there a significant difference in mean temperature continent wise?"
      ],
      "metadata": {
        "id": "27Rz1mrpLA7E"
      }
    },
    {
      "cell_type": "code",
      "source": [
        "# look at the second dataset\n",
        "df1.head()"
      ],
      "metadata": {
        "colab": {
          "base_uri": "https://localhost:8080/",
          "height": 206
        },
        "id": "HHlEttg4EJwh",
        "outputId": "33d23bfb-405f-4386-c9a9-97f75ccdd07b"
      },
      "execution_count": 24,
      "outputs": [
        {
          "output_type": "execute_result",
          "data": {
            "text/plain": [
              "  Country Code    Country Name  year  tem_change\n",
              "0          AFG     Afghanistan  1961      -0.080\n",
              "1          ALB         Albania  1961       0.631\n",
              "2          DZA         Algeria  1961       0.186\n",
              "3          ASM  American Samoa  1961      -0.014\n",
              "4          AND         Andorra  1961       0.749"
            ],
            "text/html": [
              "\n",
              "  <div id=\"df-cd515a3d-8c00-4dec-9c3b-2c4381c90f28\">\n",
              "    <div class=\"colab-df-container\">\n",
              "      <div>\n",
              "<style scoped>\n",
              "    .dataframe tbody tr th:only-of-type {\n",
              "        vertical-align: middle;\n",
              "    }\n",
              "\n",
              "    .dataframe tbody tr th {\n",
              "        vertical-align: top;\n",
              "    }\n",
              "\n",
              "    .dataframe thead th {\n",
              "        text-align: right;\n",
              "    }\n",
              "</style>\n",
              "<table border=\"1\" class=\"dataframe\">\n",
              "  <thead>\n",
              "    <tr style=\"text-align: right;\">\n",
              "      <th></th>\n",
              "      <th>Country Code</th>\n",
              "      <th>Country Name</th>\n",
              "      <th>year</th>\n",
              "      <th>tem_change</th>\n",
              "    </tr>\n",
              "  </thead>\n",
              "  <tbody>\n",
              "    <tr>\n",
              "      <th>0</th>\n",
              "      <td>AFG</td>\n",
              "      <td>Afghanistan</td>\n",
              "      <td>1961</td>\n",
              "      <td>-0.080</td>\n",
              "    </tr>\n",
              "    <tr>\n",
              "      <th>1</th>\n",
              "      <td>ALB</td>\n",
              "      <td>Albania</td>\n",
              "      <td>1961</td>\n",
              "      <td>0.631</td>\n",
              "    </tr>\n",
              "    <tr>\n",
              "      <th>2</th>\n",
              "      <td>DZA</td>\n",
              "      <td>Algeria</td>\n",
              "      <td>1961</td>\n",
              "      <td>0.186</td>\n",
              "    </tr>\n",
              "    <tr>\n",
              "      <th>3</th>\n",
              "      <td>ASM</td>\n",
              "      <td>American Samoa</td>\n",
              "      <td>1961</td>\n",
              "      <td>-0.014</td>\n",
              "    </tr>\n",
              "    <tr>\n",
              "      <th>4</th>\n",
              "      <td>AND</td>\n",
              "      <td>Andorra</td>\n",
              "      <td>1961</td>\n",
              "      <td>0.749</td>\n",
              "    </tr>\n",
              "  </tbody>\n",
              "</table>\n",
              "</div>\n",
              "      <button class=\"colab-df-convert\" onclick=\"convertToInteractive('df-cd515a3d-8c00-4dec-9c3b-2c4381c90f28')\"\n",
              "              title=\"Convert this dataframe to an interactive table.\"\n",
              "              style=\"display:none;\">\n",
              "        \n",
              "  <svg xmlns=\"http://www.w3.org/2000/svg\" height=\"24px\"viewBox=\"0 0 24 24\"\n",
              "       width=\"24px\">\n",
              "    <path d=\"M0 0h24v24H0V0z\" fill=\"none\"/>\n",
              "    <path d=\"M18.56 5.44l.94 2.06.94-2.06 2.06-.94-2.06-.94-.94-2.06-.94 2.06-2.06.94zm-11 1L8.5 8.5l.94-2.06 2.06-.94-2.06-.94L8.5 2.5l-.94 2.06-2.06.94zm10 10l.94 2.06.94-2.06 2.06-.94-2.06-.94-.94-2.06-.94 2.06-2.06.94z\"/><path d=\"M17.41 7.96l-1.37-1.37c-.4-.4-.92-.59-1.43-.59-.52 0-1.04.2-1.43.59L10.3 9.45l-7.72 7.72c-.78.78-.78 2.05 0 2.83L4 21.41c.39.39.9.59 1.41.59.51 0 1.02-.2 1.41-.59l7.78-7.78 2.81-2.81c.8-.78.8-2.07 0-2.86zM5.41 20L4 18.59l7.72-7.72 1.47 1.35L5.41 20z\"/>\n",
              "  </svg>\n",
              "      </button>\n",
              "      \n",
              "  <style>\n",
              "    .colab-df-container {\n",
              "      display:flex;\n",
              "      flex-wrap:wrap;\n",
              "      gap: 12px;\n",
              "    }\n",
              "\n",
              "    .colab-df-convert {\n",
              "      background-color: #E8F0FE;\n",
              "      border: none;\n",
              "      border-radius: 50%;\n",
              "      cursor: pointer;\n",
              "      display: none;\n",
              "      fill: #1967D2;\n",
              "      height: 32px;\n",
              "      padding: 0 0 0 0;\n",
              "      width: 32px;\n",
              "    }\n",
              "\n",
              "    .colab-df-convert:hover {\n",
              "      background-color: #E2EBFA;\n",
              "      box-shadow: 0px 1px 2px rgba(60, 64, 67, 0.3), 0px 1px 3px 1px rgba(60, 64, 67, 0.15);\n",
              "      fill: #174EA6;\n",
              "    }\n",
              "\n",
              "    [theme=dark] .colab-df-convert {\n",
              "      background-color: #3B4455;\n",
              "      fill: #D2E3FC;\n",
              "    }\n",
              "\n",
              "    [theme=dark] .colab-df-convert:hover {\n",
              "      background-color: #434B5C;\n",
              "      box-shadow: 0px 1px 3px 1px rgba(0, 0, 0, 0.15);\n",
              "      filter: drop-shadow(0px 1px 2px rgba(0, 0, 0, 0.3));\n",
              "      fill: #FFFFFF;\n",
              "    }\n",
              "  </style>\n",
              "\n",
              "      <script>\n",
              "        const buttonEl =\n",
              "          document.querySelector('#df-cd515a3d-8c00-4dec-9c3b-2c4381c90f28 button.colab-df-convert');\n",
              "        buttonEl.style.display =\n",
              "          google.colab.kernel.accessAllowed ? 'block' : 'none';\n",
              "\n",
              "        async function convertToInteractive(key) {\n",
              "          const element = document.querySelector('#df-cd515a3d-8c00-4dec-9c3b-2c4381c90f28');\n",
              "          const dataTable =\n",
              "            await google.colab.kernel.invokeFunction('convertToInteractive',\n",
              "                                                     [key], {});\n",
              "          if (!dataTable) return;\n",
              "\n",
              "          const docLinkHtml = 'Like what you see? Visit the ' +\n",
              "            '<a target=\"_blank\" href=https://colab.research.google.com/notebooks/data_table.ipynb>data table notebook</a>'\n",
              "            + ' to learn more about interactive tables.';\n",
              "          element.innerHTML = '';\n",
              "          dataTable['output_type'] = 'display_data';\n",
              "          await google.colab.output.renderOutput(dataTable, element);\n",
              "          const docLink = document.createElement('div');\n",
              "          docLink.innerHTML = docLinkHtml;\n",
              "          element.appendChild(docLink);\n",
              "        }\n",
              "      </script>\n",
              "    </div>\n",
              "  </div>\n",
              "  "
            ]
          },
          "metadata": {},
          "execution_count": 24
        }
      ]
    },
    {
      "cell_type": "code",
      "source": [
        "df1.shape"
      ],
      "metadata": {
        "colab": {
          "base_uri": "https://localhost:8080/"
        },
        "id": "OpKJ3jy5Plw3",
        "outputId": "d0b466b3-53a9-4bae-8929-a0680a26178e"
      },
      "execution_count": 25,
      "outputs": [
        {
          "output_type": "execute_result",
          "data": {
            "text/plain": [
              "(16756, 4)"
            ]
          },
          "metadata": {},
          "execution_count": 25
        }
      ]
    },
    {
      "cell_type": "code",
      "source": [
        "df1.head()"
      ],
      "metadata": {
        "colab": {
          "base_uri": "https://localhost:8080/",
          "height": 206
        },
        "id": "FOfYurrSCdC1",
        "outputId": "290a74c1-3501-4cd7-e017-602892d36e9b"
      },
      "execution_count": 26,
      "outputs": [
        {
          "output_type": "execute_result",
          "data": {
            "text/plain": [
              "  Country Code    Country Name  year  tem_change\n",
              "0          AFG     Afghanistan  1961      -0.080\n",
              "1          ALB         Albania  1961       0.631\n",
              "2          DZA         Algeria  1961       0.186\n",
              "3          ASM  American Samoa  1961      -0.014\n",
              "4          AND         Andorra  1961       0.749"
            ],
            "text/html": [
              "\n",
              "  <div id=\"df-8acdefd4-74db-456c-b10f-21d458bc819c\">\n",
              "    <div class=\"colab-df-container\">\n",
              "      <div>\n",
              "<style scoped>\n",
              "    .dataframe tbody tr th:only-of-type {\n",
              "        vertical-align: middle;\n",
              "    }\n",
              "\n",
              "    .dataframe tbody tr th {\n",
              "        vertical-align: top;\n",
              "    }\n",
              "\n",
              "    .dataframe thead th {\n",
              "        text-align: right;\n",
              "    }\n",
              "</style>\n",
              "<table border=\"1\" class=\"dataframe\">\n",
              "  <thead>\n",
              "    <tr style=\"text-align: right;\">\n",
              "      <th></th>\n",
              "      <th>Country Code</th>\n",
              "      <th>Country Name</th>\n",
              "      <th>year</th>\n",
              "      <th>tem_change</th>\n",
              "    </tr>\n",
              "  </thead>\n",
              "  <tbody>\n",
              "    <tr>\n",
              "      <th>0</th>\n",
              "      <td>AFG</td>\n",
              "      <td>Afghanistan</td>\n",
              "      <td>1961</td>\n",
              "      <td>-0.080</td>\n",
              "    </tr>\n",
              "    <tr>\n",
              "      <th>1</th>\n",
              "      <td>ALB</td>\n",
              "      <td>Albania</td>\n",
              "      <td>1961</td>\n",
              "      <td>0.631</td>\n",
              "    </tr>\n",
              "    <tr>\n",
              "      <th>2</th>\n",
              "      <td>DZA</td>\n",
              "      <td>Algeria</td>\n",
              "      <td>1961</td>\n",
              "      <td>0.186</td>\n",
              "    </tr>\n",
              "    <tr>\n",
              "      <th>3</th>\n",
              "      <td>ASM</td>\n",
              "      <td>American Samoa</td>\n",
              "      <td>1961</td>\n",
              "      <td>-0.014</td>\n",
              "    </tr>\n",
              "    <tr>\n",
              "      <th>4</th>\n",
              "      <td>AND</td>\n",
              "      <td>Andorra</td>\n",
              "      <td>1961</td>\n",
              "      <td>0.749</td>\n",
              "    </tr>\n",
              "  </tbody>\n",
              "</table>\n",
              "</div>\n",
              "      <button class=\"colab-df-convert\" onclick=\"convertToInteractive('df-8acdefd4-74db-456c-b10f-21d458bc819c')\"\n",
              "              title=\"Convert this dataframe to an interactive table.\"\n",
              "              style=\"display:none;\">\n",
              "        \n",
              "  <svg xmlns=\"http://www.w3.org/2000/svg\" height=\"24px\"viewBox=\"0 0 24 24\"\n",
              "       width=\"24px\">\n",
              "    <path d=\"M0 0h24v24H0V0z\" fill=\"none\"/>\n",
              "    <path d=\"M18.56 5.44l.94 2.06.94-2.06 2.06-.94-2.06-.94-.94-2.06-.94 2.06-2.06.94zm-11 1L8.5 8.5l.94-2.06 2.06-.94-2.06-.94L8.5 2.5l-.94 2.06-2.06.94zm10 10l.94 2.06.94-2.06 2.06-.94-2.06-.94-.94-2.06-.94 2.06-2.06.94z\"/><path d=\"M17.41 7.96l-1.37-1.37c-.4-.4-.92-.59-1.43-.59-.52 0-1.04.2-1.43.59L10.3 9.45l-7.72 7.72c-.78.78-.78 2.05 0 2.83L4 21.41c.39.39.9.59 1.41.59.51 0 1.02-.2 1.41-.59l7.78-7.78 2.81-2.81c.8-.78.8-2.07 0-2.86zM5.41 20L4 18.59l7.72-7.72 1.47 1.35L5.41 20z\"/>\n",
              "  </svg>\n",
              "      </button>\n",
              "      \n",
              "  <style>\n",
              "    .colab-df-container {\n",
              "      display:flex;\n",
              "      flex-wrap:wrap;\n",
              "      gap: 12px;\n",
              "    }\n",
              "\n",
              "    .colab-df-convert {\n",
              "      background-color: #E8F0FE;\n",
              "      border: none;\n",
              "      border-radius: 50%;\n",
              "      cursor: pointer;\n",
              "      display: none;\n",
              "      fill: #1967D2;\n",
              "      height: 32px;\n",
              "      padding: 0 0 0 0;\n",
              "      width: 32px;\n",
              "    }\n",
              "\n",
              "    .colab-df-convert:hover {\n",
              "      background-color: #E2EBFA;\n",
              "      box-shadow: 0px 1px 2px rgba(60, 64, 67, 0.3), 0px 1px 3px 1px rgba(60, 64, 67, 0.15);\n",
              "      fill: #174EA6;\n",
              "    }\n",
              "\n",
              "    [theme=dark] .colab-df-convert {\n",
              "      background-color: #3B4455;\n",
              "      fill: #D2E3FC;\n",
              "    }\n",
              "\n",
              "    [theme=dark] .colab-df-convert:hover {\n",
              "      background-color: #434B5C;\n",
              "      box-shadow: 0px 1px 3px 1px rgba(0, 0, 0, 0.15);\n",
              "      filter: drop-shadow(0px 1px 2px rgba(0, 0, 0, 0.3));\n",
              "      fill: #FFFFFF;\n",
              "    }\n",
              "  </style>\n",
              "\n",
              "      <script>\n",
              "        const buttonEl =\n",
              "          document.querySelector('#df-8acdefd4-74db-456c-b10f-21d458bc819c button.colab-df-convert');\n",
              "        buttonEl.style.display =\n",
              "          google.colab.kernel.accessAllowed ? 'block' : 'none';\n",
              "\n",
              "        async function convertToInteractive(key) {\n",
              "          const element = document.querySelector('#df-8acdefd4-74db-456c-b10f-21d458bc819c');\n",
              "          const dataTable =\n",
              "            await google.colab.kernel.invokeFunction('convertToInteractive',\n",
              "                                                     [key], {});\n",
              "          if (!dataTable) return;\n",
              "\n",
              "          const docLinkHtml = 'Like what you see? Visit the ' +\n",
              "            '<a target=\"_blank\" href=https://colab.research.google.com/notebooks/data_table.ipynb>data table notebook</a>'\n",
              "            + ' to learn more about interactive tables.';\n",
              "          element.innerHTML = '';\n",
              "          dataTable['output_type'] = 'display_data';\n",
              "          await google.colab.output.renderOutput(dataTable, element);\n",
              "          const docLink = document.createElement('div');\n",
              "          docLink.innerHTML = docLinkHtml;\n",
              "          element.appendChild(docLink);\n",
              "        }\n",
              "      </script>\n",
              "    </div>\n",
              "  </div>\n",
              "  "
            ]
          },
          "metadata": {},
          "execution_count": 26
        }
      ]
    },
    {
      "cell_type": "code",
      "source": [
        "# look at the numerical value\n",
        "df1.describe()"
      ],
      "metadata": {
        "colab": {
          "base_uri": "https://localhost:8080/",
          "height": 300
        },
        "id": "wefgiSZgJBws",
        "outputId": "5abb4089-6d63-44e1-e4d3-186cd734d631"
      },
      "execution_count": 27,
      "outputs": [
        {
          "output_type": "execute_result",
          "data": {
            "text/plain": [
              "               year    tem_change\n",
              "count  16756.000000  14975.000000\n",
              "mean    1990.000000      0.484160\n",
              "std       17.029895      0.628342\n",
              "min     1961.000000     -3.252000\n",
              "25%     1975.000000      0.035000\n",
              "50%     1990.000000      0.412000\n",
              "75%     2005.000000      0.882000\n",
              "max     2019.000000      5.413000"
            ],
            "text/html": [
              "\n",
              "  <div id=\"df-06c2d74b-41e1-4cc5-8cf9-dc906532371d\">\n",
              "    <div class=\"colab-df-container\">\n",
              "      <div>\n",
              "<style scoped>\n",
              "    .dataframe tbody tr th:only-of-type {\n",
              "        vertical-align: middle;\n",
              "    }\n",
              "\n",
              "    .dataframe tbody tr th {\n",
              "        vertical-align: top;\n",
              "    }\n",
              "\n",
              "    .dataframe thead th {\n",
              "        text-align: right;\n",
              "    }\n",
              "</style>\n",
              "<table border=\"1\" class=\"dataframe\">\n",
              "  <thead>\n",
              "    <tr style=\"text-align: right;\">\n",
              "      <th></th>\n",
              "      <th>year</th>\n",
              "      <th>tem_change</th>\n",
              "    </tr>\n",
              "  </thead>\n",
              "  <tbody>\n",
              "    <tr>\n",
              "      <th>count</th>\n",
              "      <td>16756.000000</td>\n",
              "      <td>14975.000000</td>\n",
              "    </tr>\n",
              "    <tr>\n",
              "      <th>mean</th>\n",
              "      <td>1990.000000</td>\n",
              "      <td>0.484160</td>\n",
              "    </tr>\n",
              "    <tr>\n",
              "      <th>std</th>\n",
              "      <td>17.029895</td>\n",
              "      <td>0.628342</td>\n",
              "    </tr>\n",
              "    <tr>\n",
              "      <th>min</th>\n",
              "      <td>1961.000000</td>\n",
              "      <td>-3.252000</td>\n",
              "    </tr>\n",
              "    <tr>\n",
              "      <th>25%</th>\n",
              "      <td>1975.000000</td>\n",
              "      <td>0.035000</td>\n",
              "    </tr>\n",
              "    <tr>\n",
              "      <th>50%</th>\n",
              "      <td>1990.000000</td>\n",
              "      <td>0.412000</td>\n",
              "    </tr>\n",
              "    <tr>\n",
              "      <th>75%</th>\n",
              "      <td>2005.000000</td>\n",
              "      <td>0.882000</td>\n",
              "    </tr>\n",
              "    <tr>\n",
              "      <th>max</th>\n",
              "      <td>2019.000000</td>\n",
              "      <td>5.413000</td>\n",
              "    </tr>\n",
              "  </tbody>\n",
              "</table>\n",
              "</div>\n",
              "      <button class=\"colab-df-convert\" onclick=\"convertToInteractive('df-06c2d74b-41e1-4cc5-8cf9-dc906532371d')\"\n",
              "              title=\"Convert this dataframe to an interactive table.\"\n",
              "              style=\"display:none;\">\n",
              "        \n",
              "  <svg xmlns=\"http://www.w3.org/2000/svg\" height=\"24px\"viewBox=\"0 0 24 24\"\n",
              "       width=\"24px\">\n",
              "    <path d=\"M0 0h24v24H0V0z\" fill=\"none\"/>\n",
              "    <path d=\"M18.56 5.44l.94 2.06.94-2.06 2.06-.94-2.06-.94-.94-2.06-.94 2.06-2.06.94zm-11 1L8.5 8.5l.94-2.06 2.06-.94-2.06-.94L8.5 2.5l-.94 2.06-2.06.94zm10 10l.94 2.06.94-2.06 2.06-.94-2.06-.94-.94-2.06-.94 2.06-2.06.94z\"/><path d=\"M17.41 7.96l-1.37-1.37c-.4-.4-.92-.59-1.43-.59-.52 0-1.04.2-1.43.59L10.3 9.45l-7.72 7.72c-.78.78-.78 2.05 0 2.83L4 21.41c.39.39.9.59 1.41.59.51 0 1.02-.2 1.41-.59l7.78-7.78 2.81-2.81c.8-.78.8-2.07 0-2.86zM5.41 20L4 18.59l7.72-7.72 1.47 1.35L5.41 20z\"/>\n",
              "  </svg>\n",
              "      </button>\n",
              "      \n",
              "  <style>\n",
              "    .colab-df-container {\n",
              "      display:flex;\n",
              "      flex-wrap:wrap;\n",
              "      gap: 12px;\n",
              "    }\n",
              "\n",
              "    .colab-df-convert {\n",
              "      background-color: #E8F0FE;\n",
              "      border: none;\n",
              "      border-radius: 50%;\n",
              "      cursor: pointer;\n",
              "      display: none;\n",
              "      fill: #1967D2;\n",
              "      height: 32px;\n",
              "      padding: 0 0 0 0;\n",
              "      width: 32px;\n",
              "    }\n",
              "\n",
              "    .colab-df-convert:hover {\n",
              "      background-color: #E2EBFA;\n",
              "      box-shadow: 0px 1px 2px rgba(60, 64, 67, 0.3), 0px 1px 3px 1px rgba(60, 64, 67, 0.15);\n",
              "      fill: #174EA6;\n",
              "    }\n",
              "\n",
              "    [theme=dark] .colab-df-convert {\n",
              "      background-color: #3B4455;\n",
              "      fill: #D2E3FC;\n",
              "    }\n",
              "\n",
              "    [theme=dark] .colab-df-convert:hover {\n",
              "      background-color: #434B5C;\n",
              "      box-shadow: 0px 1px 3px 1px rgba(0, 0, 0, 0.15);\n",
              "      filter: drop-shadow(0px 1px 2px rgba(0, 0, 0, 0.3));\n",
              "      fill: #FFFFFF;\n",
              "    }\n",
              "  </style>\n",
              "\n",
              "      <script>\n",
              "        const buttonEl =\n",
              "          document.querySelector('#df-06c2d74b-41e1-4cc5-8cf9-dc906532371d button.colab-df-convert');\n",
              "        buttonEl.style.display =\n",
              "          google.colab.kernel.accessAllowed ? 'block' : 'none';\n",
              "\n",
              "        async function convertToInteractive(key) {\n",
              "          const element = document.querySelector('#df-06c2d74b-41e1-4cc5-8cf9-dc906532371d');\n",
              "          const dataTable =\n",
              "            await google.colab.kernel.invokeFunction('convertToInteractive',\n",
              "                                                     [key], {});\n",
              "          if (!dataTable) return;\n",
              "\n",
              "          const docLinkHtml = 'Like what you see? Visit the ' +\n",
              "            '<a target=\"_blank\" href=https://colab.research.google.com/notebooks/data_table.ipynb>data table notebook</a>'\n",
              "            + ' to learn more about interactive tables.';\n",
              "          element.innerHTML = '';\n",
              "          dataTable['output_type'] = 'display_data';\n",
              "          await google.colab.output.renderOutput(dataTable, element);\n",
              "          const docLink = document.createElement('div');\n",
              "          docLink.innerHTML = docLinkHtml;\n",
              "          element.appendChild(docLink);\n",
              "        }\n",
              "      </script>\n",
              "    </div>\n",
              "  </div>\n",
              "  "
            ]
          },
          "metadata": {},
          "execution_count": 27
        }
      ]
    },
    {
      "cell_type": "markdown",
      "source": [
        "The climate change is from 1961 to 2019.\n",
        "\n"
      ],
      "metadata": {
        "id": "eVVU0wX0P38V"
      }
    },
    {
      "cell_type": "code",
      "source": [
        "plt.hist(df1['tem_change'])"
      ],
      "metadata": {
        "id": "rEa2LSCVEV96",
        "colab": {
          "base_uri": "https://localhost:8080/",
          "height": 352
        },
        "outputId": "ebaab3c4-b195-4860-ca2a-7b6643aeb428"
      },
      "execution_count": 28,
      "outputs": [
        {
          "output_type": "execute_result",
          "data": {
            "text/plain": [
              "(array([1.000e+00, 1.100e+01, 2.510e+02, 5.182e+03, 6.929e+03, 2.315e+03,\n",
              "        2.740e+02, 8.000e+00, 3.000e+00, 1.000e+00]),\n",
              " array([-3.252 , -2.3855, -1.519 , -0.6525,  0.214 ,  1.0805,  1.947 ,\n",
              "         2.8135,  3.68  ,  4.5465,  5.413 ]),\n",
              " <a list of 10 Patch objects>)"
            ]
          },
          "metadata": {},
          "execution_count": 28
        },
        {
          "output_type": "display_data",
          "data": {
            "text/plain": [
              "<Figure size 432x288 with 1 Axes>"
            ],
            "image/png": "[encoded data removed]"
          },
          "metadata": {
            "needs_background": "light"
          }
        }
      ]
    },
    {
      "cell_type": "markdown",
      "source": [
        "It looks like the temperature change follows normality. Its on average a positive number (0.48). This suggests that the temperature change has been positive and thus, implying a global warming sitution in the world."
      ],
      "metadata": {
        "id": "o5vn_2Z_QkY7"
      }
    },
    {
      "cell_type": "markdown",
      "source": [
        "#### Is there a significant correlation between year and temperature change?\n",
        "\n"
      ],
      "metadata": {
        "id": "RA7GNEflRCUS"
      }
    },
    {
      "cell_type": "code",
      "source": [
        "# let us take the average of temperature change over years.\n",
        "clim_year = df1.groupby('year')['tem_change'].mean().reset_index()"
      ],
      "metadata": {
        "id": "K_QLPfklNakN"
      },
      "execution_count": 29,
      "outputs": []
    },
    {
      "cell_type": "code",
      "source": [
        "# lets find the correlation using the defined method\n",
        "var_corr_test(clim_year['year'],clim_year['tem_change'])\n"
      ],
      "metadata": {
        "colab": {
          "base_uri": "https://localhost:8080/"
        },
        "id": "tC2Oq_0oRU05",
        "outputId": "c8fff81e-ca57-44ec-ddfe-f7aad04eeaf7"
      },
      "execution_count": 30,
      "outputs": [
        {
          "output_type": "stream",
          "name": "stdout",
          "text": [
            "we reject the null hypothesis of normality\n",
            "There is a significant correlation of  0.9294564582115723 between the given number of variables using spearman method \n",
            "There is a significant correlation of  0.7744009351256574 between the given number of variables using kendell method\n"
          ]
        }
      ]
    },
    {
      "cell_type": "code",
      "source": [
        "# plotting the graph too\n",
        "sns.scatterplot(clim_year['year'],clim_year['tem_change'])\n",
        "plt.title('Temperature Change over time',fontsize=14)"
      ],
      "metadata": {
        "colab": {
          "base_uri": "https://localhost:8080/",
          "height": 313
        },
        "id": "OUpc_MvbR0CH",
        "outputId": "bf177004-defe-40e9-acef-f5b8b3eaca97"
      },
      "execution_count": 31,
      "outputs": [
        {
          "output_type": "execute_result",
          "data": {
            "text/plain": [
              "Text(0.5, 1.0, 'Temperature Change over time')"
            ]
          },
          "metadata": {},
          "execution_count": 31
        },
        {
          "output_type": "display_data",
          "data": {
            "text/plain": [
              "<Figure size 432x288 with 1 Axes>"
            ],
            "image/png": "[encoded data removed]"
          },
          "metadata": {
            "needs_background": "light"
          }
        }
      ]
    },
    {
      "cell_type": "markdown",
      "source": [
        "From the above, we can see that there is a strong and positive correlation between year and average temp_change as shown by the scatterplot and correlation test.\n",
        "\n",
        "\n",
        "This implies that there has been a rise in temperature with the time passage."
      ],
      "metadata": {
        "id": "JS64tLvHSNq5"
      }
    },
    {
      "cell_type": "markdown",
      "source": [
        "### let us see if there is a change in temperature change over decades."
      ],
      "metadata": {
        "id": "UglRf5V0TRkK"
      }
    },
    {
      "cell_type": "code",
      "source": [
        "# look at decade year\n",
        "clim_year.head()"
      ],
      "metadata": {
        "colab": {
          "base_uri": "https://localhost:8080/",
          "height": 206
        },
        "id": "yoFi0PpgSBAP",
        "outputId": "109b584c-a1c0-4a60-c2b1-48c4e75f7ead"
      },
      "execution_count": 52,
      "outputs": [
        {
          "output_type": "execute_result",
          "data": {
            "text/plain": [
              "   year  tem_change\n",
              "0  1961    0.170922\n",
              "1  1962   -0.022873\n",
              "2  1963   -0.028361\n",
              "3  1964   -0.106037\n",
              "4  1965   -0.254930"
            ],
            "text/html": [
              "\n",
              "  <div id=\"df-c0b95d07-c15f-4c62-a83e-9bdbaa927293\">\n",
              "    <div class=\"colab-df-container\">\n",
              "      <div>\n",
              "<style scoped>\n",
              "    .dataframe tbody tr th:only-of-type {\n",
              "        vertical-align: middle;\n",
              "    }\n",
              "\n",
              "    .dataframe tbody tr th {\n",
              "        vertical-align: top;\n",
              "    }\n",
              "\n",
              "    .dataframe thead th {\n",
              "        text-align: right;\n",
              "    }\n",
              "</style>\n",
              "<table border=\"1\" class=\"dataframe\">\n",
              "  <thead>\n",
              "    <tr style=\"text-align: right;\">\n",
              "      <th></th>\n",
              "      <th>year</th>\n",
              "      <th>tem_change</th>\n",
              "    </tr>\n",
              "  </thead>\n",
              "  <tbody>\n",
              "    <tr>\n",
              "      <th>0</th>\n",
              "      <td>1961</td>\n",
              "      <td>0.170922</td>\n",
              "    </tr>\n",
              "    <tr>\n",
              "      <th>1</th>\n",
              "      <td>1962</td>\n",
              "      <td>-0.022873</td>\n",
              "    </tr>\n",
              "    <tr>\n",
              "      <th>2</th>\n",
              "      <td>1963</td>\n",
              "      <td>-0.028361</td>\n",
              "    </tr>\n",
              "    <tr>\n",
              "      <th>3</th>\n",
              "      <td>1964</td>\n",
              "      <td>-0.106037</td>\n",
              "    </tr>\n",
              "    <tr>\n",
              "      <th>4</th>\n",
              "      <td>1965</td>\n",
              "      <td>-0.254930</td>\n",
              "    </tr>\n",
              "  </tbody>\n",
              "</table>\n",
              "</div>\n",
              "      <button class=\"colab-df-convert\" onclick=\"convertToInteractive('df-c0b95d07-c15f-4c62-a83e-9bdbaa927293')\"\n",
              "              title=\"Convert this dataframe to an interactive table.\"\n",
              "              style=\"display:none;\">\n",
              "        \n",
              "  <svg xmlns=\"http://www.w3.org/2000/svg\" height=\"24px\"viewBox=\"0 0 24 24\"\n",
              "       width=\"24px\">\n",
              "    <path d=\"M0 0h24v24H0V0z\" fill=\"none\"/>\n",
              "    <path d=\"M18.56 5.44l.94 2.06.94-2.06 2.06-.94-2.06-.94-.94-2.06-.94 2.06-2.06.94zm-11 1L8.5 8.5l.94-2.06 2.06-.94-2.06-.94L8.5 2.5l-.94 2.06-2.06.94zm10 10l.94 2.06.94-2.06 2.06-.94-2.06-.94-.94-2.06-.94 2.06-2.06.94z\"/><path d=\"M17.41 7.96l-1.37-1.37c-.4-.4-.92-.59-1.43-.59-.52 0-1.04.2-1.43.59L10.3 9.45l-7.72 7.72c-.78.78-.78 2.05 0 2.83L4 21.41c.39.39.9.59 1.41.59.51 0 1.02-.2 1.41-.59l7.78-7.78 2.81-2.81c.8-.78.8-2.07 0-2.86zM5.41 20L4 18.59l7.72-7.72 1.47 1.35L5.41 20z\"/>\n",
              "  </svg>\n",
              "      </button>\n",
              "      \n",
              "  <style>\n",
              "    .colab-df-container {\n",
              "      display:flex;\n",
              "      flex-wrap:wrap;\n",
              "      gap: 12px;\n",
              "    }\n",
              "\n",
              "    .colab-df-convert {\n",
              "      background-color: #E8F0FE;\n",
              "      border: none;\n",
              "      border-radius: 50%;\n",
              "      cursor: pointer;\n",
              "      display: none;\n",
              "      fill: #1967D2;\n",
              "      height: 32px;\n",
              "      padding: 0 0 0 0;\n",
              "      width: 32px;\n",
              "    }\n",
              "\n",
              "    .colab-df-convert:hover {\n",
              "      background-color: #E2EBFA;\n",
              "      box-shadow: 0px 1px 2px rgba(60, 64, 67, 0.3), 0px 1px 3px 1px rgba(60, 64, 67, 0.15);\n",
              "      fill: #174EA6;\n",
              "    }\n",
              "\n",
              "    [theme=dark] .colab-df-convert {\n",
              "      background-color: #3B4455;\n",
              "      fill: #D2E3FC;\n",
              "    }\n",
              "\n",
              "    [theme=dark] .colab-df-convert:hover {\n",
              "      background-color: #434B5C;\n",
              "      box-shadow: 0px 1px 3px 1px rgba(0, 0, 0, 0.15);\n",
              "      filter: drop-shadow(0px 1px 2px rgba(0, 0, 0, 0.3));\n",
              "      fill: #FFFFFF;\n",
              "    }\n",
              "  </style>\n",
              "\n",
              "      <script>\n",
              "        const buttonEl =\n",
              "          document.querySelector('#df-c0b95d07-c15f-4c62-a83e-9bdbaa927293 button.colab-df-convert');\n",
              "        buttonEl.style.display =\n",
              "          google.colab.kernel.accessAllowed ? 'block' : 'none';\n",
              "\n",
              "        async function convertToInteractive(key) {\n",
              "          const element = document.querySelector('#df-c0b95d07-c15f-4c62-a83e-9bdbaa927293');\n",
              "          const dataTable =\n",
              "            await google.colab.kernel.invokeFunction('convertToInteractive',\n",
              "                                                     [key], {});\n",
              "          if (!dataTable) return;\n",
              "\n",
              "          const docLinkHtml = 'Like what you see? Visit the ' +\n",
              "            '<a target=\"_blank\" href=https://colab.research.google.com/notebooks/data_table.ipynb>data table notebook</a>'\n",
              "            + ' to learn more about interactive tables.';\n",
              "          element.innerHTML = '';\n",
              "          dataTable['output_type'] = 'display_data';\n",
              "          await google.colab.output.renderOutput(dataTable, element);\n",
              "          const docLink = document.createElement('div');\n",
              "          docLink.innerHTML = docLinkHtml;\n",
              "          element.appendChild(docLink);\n",
              "        }\n",
              "      </script>\n",
              "    </div>\n",
              "  </div>\n",
              "  "
            ]
          },
          "metadata": {},
          "execution_count": 52
        }
      ]
    },
    {
      "cell_type": "code",
      "source": [
        "clim_year_Less_1981 = clim_year[clim_year['year'] <=1981]['tem_change']\n",
        "clim_year_Less_2001 = clim_year[(clim_year['year'] <=2001) & (clim_year['year'] >1981)]['tem_change']\n",
        "clim_year_Less_2021= clim_year[(clim_year['year'] <=2021) & (clim_year['year'] >2001)]['tem_change']"
      ],
      "metadata": {
        "id": "7HzyibGy1FiI"
      },
      "execution_count": 33,
      "outputs": []
    },
    {
      "cell_type": "markdown",
      "source": [
        "#### We will look for a different in temperature change over period of 2 decades.\n",
        "\n",
        "We have three groups of samples:\n",
        "\n",
        "* Temp change before 1981\n",
        "* Temp change before 2001\n",
        "* Temp change before 2021\n",
        "\n",
        "\n",
        "The null hypothesis would be:\n",
        "\n",
        "There is no significant change in average temp over the period of 2 decades\n",
        "\n",
        "The alternative would be:\n",
        "\n",
        "There is a significant change in average temp over the period of 2 decades.\n",
        "\n",
        "\n",
        "\n",
        "\n",
        "We would be conducting anova test with regard to it.\n",
        "\n",
        "\n",
        "This test basically compares the variance within each group of value to that of the other groups.\n",
        "\n",
        "\n",
        "There are two types of test:\n",
        "\n",
        "\n",
        "f_oneway:\n",
        "\n",
        "it assumes all the samples are from normal distribution , standard deviation should be equal for all groups.\n",
        "\n",
        "\n",
        "Kruskal and alexandergovern) ⁉\n",
        "\n",
        "\n",
        "Although it does not assume much, it may lead to loss of power.\n",
        "\n",
        "\n"
      ],
      "metadata": {
        "id": "0GyBFjj64D1W"
      }
    },
    {
      "cell_type": "markdown",
      "source": [
        "##### Comparing the normality of each variable\n",
        "\n",
        "\n",
        "\n"
      ],
      "metadata": {
        "id": "ifMXBMpP7dzV"
      }
    },
    {
      "cell_type": "code",
      "source": [
        "# using is_normal method\n",
        "is_normal(clim_year_Less_1981)\n",
        "is_normal(clim_year_Less_2001)\n",
        "is_normal(clim_year_Less_2021)"
      ],
      "metadata": {
        "colab": {
          "base_uri": "https://localhost:8080/"
        },
        "id": "ofhrRo1T1FmR",
        "outputId": "ecf19230-726a-4146-e53b-37a4120b5cdd"
      },
      "execution_count": 34,
      "outputs": [
        {
          "output_type": "stream",
          "name": "stdout",
          "text": [
            "there is normality present in the data\n",
            "there is normality present in the data\n",
            "we reject the null hypothesis of normality\n"
          ]
        }
      ]
    },
    {
      "cell_type": "markdown",
      "source": [
        "IN one of the dataset, we do not find the assumption of normality , we would be going with non-paramtric kruskal and alexandergovern.\n",
        "\n",
        "\n",
        "The kruskal is based on the null hypothesis that the median would be same for all groups.\n",
        "\n",
        "\n",
        "\n"
      ],
      "metadata": {
        "id": "mo0VOmwP8Fa_"
      }
    },
    {
      "cell_type": "code",
      "source": [
        "from scipy.stats import kruskal, alexandergovern\n",
        "print(kruskal(clim_year_Less_1981,clim_year_Less_2001,clim_year_Less_2021))\n",
        "print(alexandergovern(clim_year_Less_1981,clim_year_Less_2001,clim_year_Less_2021))"
      ],
      "metadata": {
        "colab": {
          "base_uri": "https://localhost:8080/"
        },
        "id": "JEQpga6-76Vp",
        "outputId": "c3b9df37-f6a3-43ad-afec-32533d1daa10"
      },
      "execution_count": 35,
      "outputs": [
        {
          "output_type": "stream",
          "name": "stdout",
          "text": [
            "KruskalResult(statistic=45.51778853914445, pvalue=1.3059838442452046e-10)\n",
            "AlexanderGovernResult(statistic=75.41550339680956, pvalue=4.204666090293736e-17)\n"
          ]
        }
      ]
    },
    {
      "cell_type": "markdown",
      "source": [
        "Looking at the above test statistics , we can say that there is a significant different in temp change decade wise."
      ],
      "metadata": {
        "id": "CJ6SO6SW9Bcc"
      }
    },
    {
      "cell_type": "code",
      "source": [
        "# look at the mean value\n",
        "print(clim_year_Less_1981.mean())\n",
        "print(clim_year_Less_2001.mean())\n",
        "print(clim_year_Less_2021.mean())"
      ],
      "metadata": {
        "colab": {
          "base_uri": "https://localhost:8080/"
        },
        "id": "_3A38vsg8dtQ",
        "outputId": "9de146be-9be9-4462-ec95-b361ba557008"
      },
      "execution_count": 36,
      "outputs": [
        {
          "output_type": "stream",
          "name": "stdout",
          "text": [
            "0.010397058131538931\n",
            "0.4299526457446826\n",
            "1.0478844729124221\n"
          ]
        }
      ]
    },
    {
      "cell_type": "code",
      "source": [
        "# forming a dataframe\n",
        "clim_decade  = pd.DataFrame({'Before 1981':clim_year_Less_1981,'Before 2001':clim_year_Less_2001,'Before 2021':clim_year_Less_2021})\n",
        "clim_decade.plot(kind='bar')\n",
        "plt.axis('off')"
      ],
      "metadata": {
        "colab": {
          "base_uri": "https://localhost:8080/",
          "height": 265
        },
        "id": "X7IeOcFT9ToK",
        "outputId": "0dc03c91-3ae5-4235-bcd6-b4139482d1da"
      },
      "execution_count": 37,
      "outputs": [
        {
          "output_type": "execute_result",
          "data": {
            "text/plain": [
              "(-0.5, 58.5, -0.3410910488077496, 1.554444811847988)"
            ]
          },
          "metadata": {},
          "execution_count": 37
        },
        {
          "output_type": "display_data",
          "data": {
            "text/plain": [
              "<Figure size 432x288 with 1 Axes>"
            ],
            "image/png": "[encoded data removed]"
          },
          "metadata": {
            "needs_background": "light"
          }
        }
      ]
    },
    {
      "cell_type": "markdown",
      "source": [
        "The above graph shares the reality.\n",
        "\n",
        "It tells us initially, there were even falling temperature change(global cold) However with passage of time, there has been more industrialization and city movement, it has caused a sharp rise in the temperature (especially after 2001)."
      ],
      "metadata": {
        "id": "n5oSvL0-_c8E"
      }
    },
    {
      "cell_type": "code",
      "source": [
        "# read csv\n",
        "cont_country  = pd.read_csv('https://raw.githubusercontent.com/dbouquin/IS_608/master/NanosatDB_munging/Countries-Continents.csv')"
      ],
      "metadata": {
        "id": "Z0ExPADl-IOw"
      },
      "execution_count": 38,
      "outputs": []
    },
    {
      "cell_type": "code",
      "source": [
        "cont_country"
      ],
      "metadata": {
        "colab": {
          "base_uri": "https://localhost:8080/",
          "height": 424
        },
        "id": "ZtoARMFCAaW6",
        "outputId": "31d705d6-e3b2-4b4c-b919-a905933396d3"
      },
      "execution_count": 39,
      "outputs": [
        {
          "output_type": "execute_result",
          "data": {
            "text/plain": [
              "         Continent    Country\n",
              "0           Africa    Algeria\n",
              "1           Africa     Angola\n",
              "2           Africa      Benin\n",
              "3           Africa   Botswana\n",
              "4           Africa    Burkina\n",
              "..             ...        ...\n",
              "189  South America   Paraguay\n",
              "190  South America       Peru\n",
              "191  South America   Suriname\n",
              "192  South America    Uruguay\n",
              "193  South America  Venezuela\n",
              "\n",
              "[194 rows x 2 columns]"
            ],
            "text/html": [
              "\n",
              "  <div id=\"df-380e8358-f04d-43f3-b4c0-784fc7cdf5fd\">\n",
              "    <div class=\"colab-df-container\">\n",
              "      <div>\n",
              "<style scoped>\n",
              "    .dataframe tbody tr th:only-of-type {\n",
              "        vertical-align: middle;\n",
              "    }\n",
              "\n",
              "    .dataframe tbody tr th {\n",
              "        vertical-align: top;\n",
              "    }\n",
              "\n",
              "    .dataframe thead th {\n",
              "        text-align: right;\n",
              "    }\n",
              "</style>\n",
              "<table border=\"1\" class=\"dataframe\">\n",
              "  <thead>\n",
              "    <tr style=\"text-align: right;\">\n",
              "      <th></th>\n",
              "      <th>Continent</th>\n",
              "      <th>Country</th>\n",
              "    </tr>\n",
              "  </thead>\n",
              "  <tbody>\n",
              "    <tr>\n",
              "      <th>0</th>\n",
              "      <td>Africa</td>\n",
              "      <td>Algeria</td>\n",
              "    </tr>\n",
              "    <tr>\n",
              "      <th>1</th>\n",
              "      <td>Africa</td>\n",
              "      <td>Angola</td>\n",
              "    </tr>\n",
              "    <tr>\n",
              "      <th>2</th>\n",
              "      <td>Africa</td>\n",
              "      <td>Benin</td>\n",
              "    </tr>\n",
              "    <tr>\n",
              "      <th>3</th>\n",
              "      <td>Africa</td>\n",
              "      <td>Botswana</td>\n",
              "    </tr>\n",
              "    <tr>\n",
              "      <th>4</th>\n",
              "      <td>Africa</td>\n",
              "      <td>Burkina</td>\n",
              "    </tr>\n",
              "    <tr>\n",
              "      <th>...</th>\n",
              "      <td>...</td>\n",
              "      <td>...</td>\n",
              "    </tr>\n",
              "    <tr>\n",
              "      <th>189</th>\n",
              "      <td>South America</td>\n",
              "      <td>Paraguay</td>\n",
              "    </tr>\n",
              "    <tr>\n",
              "      <th>190</th>\n",
              "      <td>South America</td>\n",
              "      <td>Peru</td>\n",
              "    </tr>\n",
              "    <tr>\n",
              "      <th>191</th>\n",
              "      <td>South America</td>\n",
              "      <td>Suriname</td>\n",
              "    </tr>\n",
              "    <tr>\n",
              "      <th>192</th>\n",
              "      <td>South America</td>\n",
              "      <td>Uruguay</td>\n",
              "    </tr>\n",
              "    <tr>\n",
              "      <th>193</th>\n",
              "      <td>South America</td>\n",
              "      <td>Venezuela</td>\n",
              "    </tr>\n",
              "  </tbody>\n",
              "</table>\n",
              "<p>194 rows × 2 columns</p>\n",
              "</div>\n",
              "      <button class=\"colab-df-convert\" onclick=\"convertToInteractive('df-380e8358-f04d-43f3-b4c0-784fc7cdf5fd')\"\n",
              "              title=\"Convert this dataframe to an interactive table.\"\n",
              "              style=\"display:none;\">\n",
              "        \n",
              "  <svg xmlns=\"http://www.w3.org/2000/svg\" height=\"24px\"viewBox=\"0 0 24 24\"\n",
              "       width=\"24px\">\n",
              "    <path d=\"M0 0h24v24H0V0z\" fill=\"none\"/>\n",
              "    <path d=\"M18.56 5.44l.94 2.06.94-2.06 2.06-.94-2.06-.94-.94-2.06-.94 2.06-2.06.94zm-11 1L8.5 8.5l.94-2.06 2.06-.94-2.06-.94L8.5 2.5l-.94 2.06-2.06.94zm10 10l.94 2.06.94-2.06 2.06-.94-2.06-.94-.94-2.06-.94 2.06-2.06.94z\"/><path d=\"M17.41 7.96l-1.37-1.37c-.4-.4-.92-.59-1.43-.59-.52 0-1.04.2-1.43.59L10.3 9.45l-7.72 7.72c-.78.78-.78 2.05 0 2.83L4 21.41c.39.39.9.59 1.41.59.51 0 1.02-.2 1.41-.59l7.78-7.78 2.81-2.81c.8-.78.8-2.07 0-2.86zM5.41 20L4 18.59l7.72-7.72 1.47 1.35L5.41 20z\"/>\n",
              "  </svg>\n",
              "      </button>\n",
              "      \n",
              "  <style>\n",
              "    .colab-df-container {\n",
              "      display:flex;\n",
              "      flex-wrap:wrap;\n",
              "      gap: 12px;\n",
              "    }\n",
              "\n",
              "    .colab-df-convert {\n",
              "      background-color: #E8F0FE;\n",
              "      border: none;\n",
              "      border-radius: 50%;\n",
              "      cursor: pointer;\n",
              "      display: none;\n",
              "      fill: #1967D2;\n",
              "      height: 32px;\n",
              "      padding: 0 0 0 0;\n",
              "      width: 32px;\n",
              "    }\n",
              "\n",
              "    .colab-df-convert:hover {\n",
              "      background-color: #E2EBFA;\n",
              "      box-shadow: 0px 1px 2px rgba(60, 64, 67, 0.3), 0px 1px 3px 1px rgba(60, 64, 67, 0.15);\n",
              "      fill: #174EA6;\n",
              "    }\n",
              "\n",
              "    [theme=dark] .colab-df-convert {\n",
              "      background-color: #3B4455;\n",
              "      fill: #D2E3FC;\n",
              "    }\n",
              "\n",
              "    [theme=dark] .colab-df-convert:hover {\n",
              "      background-color: #434B5C;\n",
              "      box-shadow: 0px 1px 3px 1px rgba(0, 0, 0, 0.15);\n",
              "      filter: drop-shadow(0px 1px 2px rgba(0, 0, 0, 0.3));\n",
              "      fill: #FFFFFF;\n",
              "    }\n",
              "  </style>\n",
              "\n",
              "      <script>\n",
              "        const buttonEl =\n",
              "          document.querySelector('#df-380e8358-f04d-43f3-b4c0-784fc7cdf5fd button.colab-df-convert');\n",
              "        buttonEl.style.display =\n",
              "          google.colab.kernel.accessAllowed ? 'block' : 'none';\n",
              "\n",
              "        async function convertToInteractive(key) {\n",
              "          const element = document.querySelector('#df-380e8358-f04d-43f3-b4c0-784fc7cdf5fd');\n",
              "          const dataTable =\n",
              "            await google.colab.kernel.invokeFunction('convertToInteractive',\n",
              "                                                     [key], {});\n",
              "          if (!dataTable) return;\n",
              "\n",
              "          const docLinkHtml = 'Like what you see? Visit the ' +\n",
              "            '<a target=\"_blank\" href=https://colab.research.google.com/notebooks/data_table.ipynb>data table notebook</a>'\n",
              "            + ' to learn more about interactive tables.';\n",
              "          element.innerHTML = '';\n",
              "          dataTable['output_type'] = 'display_data';\n",
              "          await google.colab.output.renderOutput(dataTable, element);\n",
              "          const docLink = document.createElement('div');\n",
              "          docLink.innerHTML = docLinkHtml;\n",
              "          element.appendChild(docLink);\n",
              "        }\n",
              "      </script>\n",
              "    </div>\n",
              "  </div>\n",
              "  "
            ]
          },
          "metadata": {},
          "execution_count": 39
        }
      ]
    },
    {
      "cell_type": "code",
      "source": [
        "# renaming column\n",
        "df1.rename(columns ={'Country Name' :'Country'},inplace=True)\n",
        "# merging climate change and continent chart\n",
        "df1_cont  = pd.merge(df1,cont_country,on='Country')"
      ],
      "metadata": {
        "id": "iUhDvu5_AgKk"
      },
      "execution_count": 40,
      "outputs": []
    },
    {
      "cell_type": "code",
      "source": [
        "df1.rename(columns ={'Country Name' :'Country'},inplace=True)"
      ],
      "metadata": {
        "id": "MIjRjzBZAu5D"
      },
      "execution_count": 41,
      "outputs": []
    },
    {
      "cell_type": "code",
      "source": [
        "df1.isnull().sum()"
      ],
      "metadata": {
        "colab": {
          "base_uri": "https://localhost:8080/"
        },
        "id": "yblz-iJRAvIh",
        "outputId": "e5eccacd-6d8c-4c56-dad4-9cc6e57fdaf1"
      },
      "execution_count": 42,
      "outputs": [
        {
          "output_type": "execute_result",
          "data": {
            "text/plain": [
              "Country Code    2714\n",
              "Country            0\n",
              "year               0\n",
              "tem_change      1781\n",
              "dtype: int64"
            ]
          },
          "metadata": {},
          "execution_count": 42
        }
      ]
    },
    {
      "cell_type": "code",
      "source": [
        "# look at the mean temperature change for all continents\n",
        "sns.barplot(x='Continent',y='tem_change',data  =df1_cont  )\n",
        "plt.xticks(rotation=30)"
      ],
      "metadata": {
        "colab": {
          "base_uri": "https://localhost:8080/",
          "height": 332
        },
        "id": "p3lwsy1ECeap",
        "outputId": "5cf58f04-69d8-4071-a05c-6b88d03c85fa"
      },
      "execution_count": 43,
      "outputs": [
        {
          "output_type": "execute_result",
          "data": {
            "text/plain": [
              "(array([0, 1, 2, 3, 4, 5]), <a list of 6 Text major ticklabel objects>)"
            ]
          },
          "metadata": {},
          "execution_count": 43
        },
        {
          "output_type": "display_data",
          "data": {
            "text/plain": [
              "<Figure size 432x288 with 1 Axes>"
            ],
            "image/png": "[encoded data removed]"
          },
          "metadata": {
            "needs_background": "light"
          }
        }
      ]
    },
    {
      "cell_type": "markdown",
      "source": [
        "There has been a different in average temp change over different continents.\n",
        "\n",
        "Apparently, highest temp change was observed in europe , while other experiencing quite similar change. Also, the change was positive througoutly.\n",
        "\n",
        "Hence, europe is the most affected continent in case of temperature change."
      ],
      "metadata": {
        "id": "MiuPqzzJFg9E"
      }
    },
    {
      "cell_type": "code",
      "source": [
        "# we can now conduct the test now\n",
        "df1_cont['Continent'].value_counts()"
      ],
      "metadata": {
        "colab": {
          "base_uri": "https://localhost:8080/"
        },
        "id": "qaE7kVqaFfot",
        "outputId": "03017074-85ab-414b-c71d-8005427aac0a"
      },
      "execution_count": 44,
      "outputs": [
        {
          "output_type": "execute_result",
          "data": {
            "text/plain": [
              "Africa           2832\n",
              "Europe           2537\n",
              "Asia             2065\n",
              "North America    1298\n",
              "Oceania           826\n",
              "South America     590\n",
              "Name: Continent, dtype: int64"
            ]
          },
          "metadata": {},
          "execution_count": 44
        }
      ]
    },
    {
      "cell_type": "code",
      "source": [
        "df_asia  = df1_cont[df1_cont['Continent'] == 'Asia']['tem_change'].dropna()\n",
        "df_africa  = df1_cont[df1_cont['Continent'] == 'Africa']['tem_change'].dropna()\n",
        "df_europe  = df1_cont[df1_cont['Continent'] == 'Europe']['tem_change'].dropna()\n",
        "df_north_america =  df1_cont[df1_cont['Continent'] == 'North America']['tem_change'].dropna()\n",
        "df_oceania = df1_cont[df1_cont['Continent'] == 'Oceania']['tem_change'].dropna()\n",
        "df_south_america = df1_cont[df1_cont['Continent'] == 'South America']['tem_change'].dropna()"
      ],
      "metadata": {
        "id": "-XKrljlhE06J"
      },
      "execution_count": 45,
      "outputs": []
    },
    {
      "cell_type": "code",
      "source": [
        "# using is_normal\n",
        "is_normal(df_asia )\n",
        "is_normal(df_africa )\n",
        "is_normal(df_europe)\n",
        "is_normal(df_north_america )\n",
        "is_normal(df_oceania  )\n",
        "is_normal(df_south_america )"
      ],
      "metadata": {
        "colab": {
          "base_uri": "https://localhost:8080/"
        },
        "id": "moYceQBQMrqX",
        "outputId": "eb1ded97-6e59-477e-9372-8c2b152deb62"
      },
      "execution_count": 46,
      "outputs": [
        {
          "output_type": "stream",
          "name": "stdout",
          "text": [
            "we reject the null hypothesis of normality\n",
            "we reject the null hypothesis of normality\n",
            "we reject the null hypothesis of normality\n",
            "we reject the null hypothesis of normality\n",
            "we reject the null hypothesis of normality\n",
            "we reject the null hypothesis of normality\n"
          ]
        }
      ]
    },
    {
      "cell_type": "code",
      "source": [
        " #Using non-parametric test\n",
        "kruskal(df_asia,df_africa, df_europe,df_north_america,df_oceania,df_south_america)"
      ],
      "metadata": {
        "colab": {
          "base_uri": "https://localhost:8080/"
        },
        "id": "g255N2dkNWcu",
        "outputId": "37f64f99-fbf1-4b97-b93b-e7655250b28e"
      },
      "execution_count": 47,
      "outputs": [
        {
          "output_type": "execute_result",
          "data": {
            "text/plain": [
              "KruskalResult(statistic=228.6486607270063, pvalue=2.083682761439985e-47)"
            ]
          },
          "metadata": {},
          "execution_count": 47
        }
      ]
    },
    {
      "cell_type": "markdown",
      "source": [
        "Thus, there is a significant different in median value for these groups, let us find out which groups are different using turkey test.\n",
        "\n"
      ],
      "metadata": {
        "id": "BmYgD8KlN3Qe"
      }
    },
    {
      "cell_type": "code",
      "source": [
        "from statsmodels.stats.multicomp import pairwise_tukeyhsd"
      ],
      "metadata": {
        "id": "VICF7H7KNhrP"
      },
      "execution_count": 48,
      "outputs": []
    },
    {
      "cell_type": "code",
      "source": [
        "df1_cont.dropna(inplace=True)"
      ],
      "metadata": {
        "id": "YOiGih2onYbh"
      },
      "execution_count": 49,
      "outputs": []
    },
    {
      "cell_type": "code",
      "source": [
        "x= pairwise_tukeyhsd (df1_cont['tem_change'],df1_cont['Continent'])"
      ],
      "metadata": {
        "id": "mINPYY7hOCZL"
      },
      "execution_count": 50,
      "outputs": []
    },
    {
      "cell_type": "code",
      "source": [
        "print(x)"
      ],
      "metadata": {
        "colab": {
          "base_uri": "https://localhost:8080/"
        },
        "id": "0lp-pQOpORHY",
        "outputId": "f1b064d5-3946-4b1d-face-8013d589e077"
      },
      "execution_count": 51,
      "outputs": [
        {
          "output_type": "stream",
          "name": "stdout",
          "text": [
            "       Multiple Comparison of Means - Tukey HSD, FWER=0.05        \n",
            "==================================================================\n",
            "    group1        group2    meandiff p-adj   lower   upper  reject\n",
            "------------------------------------------------------------------\n",
            "       Africa          Asia  -0.0401   0.31 -0.0957  0.0155  False\n",
            "       Africa        Europe   0.2207  0.001  0.1661  0.2752   True\n",
            "       Africa North America  -0.0913  0.001 -0.1535  -0.029   True\n",
            "       Africa       Oceania  -0.1399  0.001 -0.2195 -0.0602   True\n",
            "       Africa South America  -0.1013 0.0066 -0.1841 -0.0184   True\n",
            "         Asia        Europe   0.2608  0.001  0.2014  0.3202   True\n",
            "         Asia North America  -0.0511 0.2414 -0.1176  0.0154  False\n",
            "         Asia       Oceania  -0.0997 0.0081 -0.1828 -0.0167   True\n",
            "         Asia South America  -0.0612 0.3283 -0.1473   0.025  False\n",
            "       Europe North America  -0.3119  0.001 -0.3775 -0.2463   True\n",
            "       Europe       Oceania  -0.3605  0.001 -0.4429 -0.2782   True\n",
            "       Europe South America  -0.3219  0.001 -0.4074 -0.2365   True\n",
            "North America       Oceania  -0.0486 0.5955 -0.1362   0.039  False\n",
            "North America South America    -0.01    0.9 -0.1006  0.0805  False\n",
            "      Oceania South America   0.0386 0.8939 -0.0647  0.1419  False\n",
            "------------------------------------------------------------------\n"
          ]
        }
      ]
    },
    {
      "cell_type": "markdown",
      "source": [
        "You find the following things:\n",
        "\n",
        "\n",
        "Most of the groups are different from each other."
      ],
      "metadata": {
        "id": "Erg2-HH-n37B"
      }
    },
    {
      "cell_type": "markdown",
      "source": [
        "# Conclusion:\n",
        "\n",
        "In the above analysis, we started with exploration of national indicators of each economy. Through the thorough analysis, we have arrived at the following\n",
        "answers:\n",
        "\n",
        "\n",
        "## National Indicators:\n",
        "\n",
        "\n",
        "***Is there significant relationship between happiness score and gdp per capita?***\n",
        "\n",
        "There is a positive and strong correlation between happiness score and gdp per capita. It implies as people become richer, they tend to get more happy.\n",
        "\n",
        "***Is there significant relationship between generosity and income?***\n",
        "\n",
        "\n",
        "The relationship between generosity and income seems to be insignificant. It suggests that we cannot say with certainty that people will become more generous with a higher income earned.\n",
        "\n",
        "\n",
        "\n",
        "\n",
        "***Is there significant relationship between income and corruption?***\n",
        "\n",
        "There is a positive and mild correlation between generosity and gdp per capita. It implies as people become richer, they tend to involve more in corruption activities.\n",
        "\n",
        "## Climate Change:\n",
        "\n",
        "\n",
        "***Is there a significance difference in temperature change for different continents?***\n",
        "\n",
        "\n",
        "Although there has been global warming all over the world, yet its impact has not been same in magnitude when compared continent wise. **Continents like Europe** have to suffer more of this global environment situation.\n",
        "\n",
        "\n",
        "\n",
        "***Is there a significant difference in temperature decade wise?***\n",
        "\n",
        "\n",
        "This analysis pose a major challenge for the world. It tells us that with time, we have been facing more of global warming.\n",
        "\n",
        "\n",
        "\n",
        "\n",
        "![business_impact.jfif](data:image/jpeg;base64,/9j/4AAQSkZJRgABAQAAAQABAAD/2wCEAAkGBxAPEBIRDw8QFRUWFRYVFhgXEBcXGxcXFxUWFxsYGBUYHikhGhwnHhYVIjMuJiosLy8vFyM0OTQtOCkuLywBCgoKDg0OHBAQHC4mISYuLi4wLi4uLi4uLi4uLi4uLi4uLi4uLi4uLi4uLi4uLi4uLi4uLi4uLi4uLi4uLi4uLv/AABEIAOEA4QMBIgACEQEDEQH/xAAcAAEAAQUBAQAAAAAAAAAAAAAAAQIEBQYHAwj/xABGEAABAwIDAwYJBwsFAQAAAAABAAIDBBEFITEGEkEiUWFxgZEHEzJCUpKhsdEUIzNTcnPBFkNigpOisrPC4fAIFSQ08dL/xAAaAQEAAwEBAQAAAAAAAAAAAAAAAwQFAQIG/8QANBEAAgECAwQJAwMFAQAAAAAAAAECAxEEEiExQVFhBRMicYGRobHwMtHhFBVSM0JiwfEj/9oADAMBAAIRAxEAPwDbERFpHzJKKEQEqERAEREAREQBERAEREAREQBERASoUogChSiAhUyPDQS4gAakmwHaqnEAXOQGZXvszgIrrVVU28N/mIT5LgPzsjfOvwByt1qOpUUUWKFB1pWWzeY2nrHTf9amqJh6TI7M9d1gexVTzzRC89FWRt4u8WHgdJMZNl0trQAAAABkAq1X6+ZpfoKVra+ZzSmqWSt3o3tcOcG//i9SsztLsxvb1TRNDKgZuaMmzjUteBlvcztb69GAo6ls0bZG6OF89Rzg9INwrFOqpd5nYrDOjzTNhRFCrF8w6hSoV0xwiKUBCKUQEIpRAQilQgCIiAIix2K43TUgvPM1p4N1cepgzRu206k27IyKLQq7wkxjKCmc7pe8N/dFz7liJvCJWk8llM0fdvJ79/8ABROvBFqOCrPdbvZ1RFymPwhVwObaUj7l49z1laPwlZ/P0pA543X/AHXAe9FXgHgay3ep0FFiMI2kpKvKGYb3oO5LvVOvZdZdSpp6orSi4u0lYIiIeSxxsEwlgNjI5kV/vHtYfYSt9/3WnhLIblthZoDScm8kaX5iOxaHjLHGFxYOU3dkb1xuDwP3V0ShmiqI452BpD2hzTYXs4aX9h6lTxCeZGz0a4ZHfi/bTiQzE4iQN7MkAclw1NtSOfJQyuHEHM8nIi7T5JN+o/4QrswN/wAy9yfJ2/peu74qBl+LS2opp6gPBsCLf5fqXO5YRFW1sTfJEzZB0eNja8j1rroogaPSH67viubRVAnnqqlubZJrMPOyJoja4dB3SVNQ+spdIOPUvwNkRFCHgwyIiumOFKhSgCIoQEooRASoRSgIVEkgaC5xAAFySbAAcSVWVyrbfak1TzBA75hpsSPzpHH7I4c+vMvFSairsnoUJVpWXiy/2m29c4mKiO63QykZn7AOg6Tn1arRnFz3XJc57j0uc4+8lX+BYJLWSbsYsBbeeRk2/vPQux7MbEQUjQ5zeVbMm28et3mjoCq2lUd2arlTw6ywWvzVv7eRyrDtjaye3zYjB9M5+o2577LYKbwXTHy5ndkNva5/4Lp0mJwQjdiaD1ZDtdxVm/G5T5IaOy/vUnVLgVZYyb327vyaBP4LZQOTM/thDv4XrB4jsPWQ33Wtk6Ad13qut7CurjGZ/SHqhe7caLhaWNjh/nA3XXSXA4sXUW/zR8/TROY7de1zXDgQQR2FbZs3tzNARHVF0sem9q9g6/PHXn08F0bFtn6TEGWaBvcGuycPsu1HtC5NtNs1LQuN7ujvYOtYg+i8cD06H2KJxlB3RajVp4hZJr5yZ16jqo5mNkieHMcLgjQq4XG9k9o30Mmd3QuPLbzfptHpD291uvU07ZGNfG4Oa4BzSNCDoVZp1FNGZiMO6MuXE9lRg+Kvw5zmljpKVxLrNF3QOOZLW8Yyc7DT31ovU4KaszzRrSpSvE3XDcVp6pu9TzRyD9FwuOtuoPWverrIoWl8sjGNGpc4NHeVzapwuCQ7z4oyee1j3jNUR4NTNO94lhPO67v4rqt1D4mh+4wt9Lv4e5lcd2iNY009FvCJ2Us9i27eLIr5m+m9oBorWKJrGhrRYAAAcwC9AocrFOmoFDEYiVZ3ei4GbREVU0TCoiK6Y4UqFKAIihASihEBKKFCA0/wjY2YIRTxmz5gd4jVseh7zl1XXOsKw99TK2KPU6ng1o1cer4K52qxH5TWTSX5IcWM+ww7o783frLffBNgYLTO9vl55jzGmwHa656gFSb6yfI24L9PQ5v3f2RuOzOCQ0MDTYAAXz1z8487j/ZWuL4xvakhvBvE9auNpMRzLfNbr0v5uz4rUJpC4klR4rFKikl9XsTdF9FvGScpu0E9Xvk+H3fdvNrwLxUnlC5tcX06RbnWdc0BpsAMitEwerMbwL8bjryFu1bwyUPZvDQgrC6QzVMta+j07ml6XWq8S9GgsLVnQts1T4xezxT0Zb7P4fFLETIwE7xF7kZWHMVc1OzkZ+jc5p6eUPj7VOyv0LvtH+FqzK3atSSqSs95m0KNOdGOaK2GjVtBLARvDqcDl2HgVVMGVkZima0uI3QTo8ei7p5it0mia9pa4Ag6hadi2HmnfYXLTm0/gekKalVz6PaVMRhnS7UdnscX2lwZ1FOYzfcNywnUjiD0g5HsPFbD4OtoDG40sh5Bu5n6J1cB0HXvWx7dYf8AK6QyAfOM5f6zRn6zb9oXKqWoMb2SN1aQ4di8y/8AOd0WYNYmi4y2/wC9zO+NNxcKpYHCsSG603uxwDh0XF/xWcBvoriZjSi09SpERdPIVLlUqXLoewzaIiomwYVEUq6Y5ClQiAlFCICURQgJVjjVT4mmnl9CF7h1hpI9qvVhtsz/AMCp+6PtIXJOybPcFeSXNHFg06DXQL6E2bpxS0eQ8loaP1GgD23XA8PHz0QP1kf8YXf3G1EOk/1n4KpRW01cdKzXizVMVlLja+mZ6yrJetYbvd1u968Vh4ieerJ8/bQ+46OoqlhacF/FebV36sqa62YW14BXbzS08Qex1s+9anY8yvsOLmnyXWP6JyPArtFKd6T2S9HufmVel6N6Sqr6oXavvX90fLVc0jfNlfoXfaP8LVmlhdlfoXfaPuasytOr/UZ83hf6Me4lWWLUnjYnN4jNvWP8t2q9VKjvZ3JpRUk4vec+a7Ig6Ef5+PeuN4tS+JnmjGjXuA6r5eyy7RWs3ZZGjg5w9pXJNsB/zqj7Tf5bFeraxT+bDLwTanKPL2Zteyc2/SR383eb3ONvZZbLQVu5yXeT7v7LUthz/wAY/eO9zVsK9wfZTIK8V1klzNlBvopWEoK3c5LvJ9yzQN9FMncqNWJVLlUqXL0eXsM2iIqJsGFUqFKumOFCIgCIiAlQpUIAsZtLAZKOpYNTA+3WGkj2hZNQRfIrj10Op2d0cAjkLSHDUEOHYbr6Ap5RJQkt4EOHUSD/AFLhOL0Jp6iWE+Y8tH2dWntaWntXVPBhigmpvEPOYHij2A7h9U26wqlF2bRsY2OaKkvl0X9DgzaiXd3iCbnhbnWeg2PiHlOJ6h8brEU8phlDrZsdmOrIj3reYnhwDmm4IuOoqGtSjB3jFa8l/ssYXF1a0Ms5ydtLZmtLcE7ehjINnqZmkd+s/CyvoqGJvkxNH6ov3q4RRuUnpclVOCd7K/cLIileT2FSqlY4vV+Kic6+Z5Les/DXsXVFydkclJRTk9xp1Y/elkcOLnH2lcc2inElXUOGnjHD1eT+C6bj1eKankl4htm9Ljk3259i5G1pJAGZJsOklXKzskvnAzsDFtym/m86BsdHu0jD6Tnu/et+CzSt6Cn8VFHH6LQ3uGauFLFWSRUqSzScuLJV5QVu5yXeT7v7KyRdI2rmzA30UOWGoK3c5LvJ9yzIN9FLF3IJKxm0RQqRrXMMpUKVdMghERAEREBKhSoQBEUoDnnhPwfyKtg5o5f6He3d9VavsvjJo5w+53HWa+3NfJw6Qc+9dlqqdkrHRyNDmuBa4HiCuNbTYDJQzFjrljrmN/pN5j+kOPfxVWtFxeZGtg6sakOql8X49jsU8jahgnjIJsN+2hHB46Cr/AMWEfzch5Pmn0TzHoXHtkNrH0RDJCTFw4ll9cvOaeI/8XR4popmiSFzSHZ2BuP1T+BzHSvV41I2ZDKNTDzzL/p0MFFpeH4vLDl5TfRPDqPBZyDaKE+UHtPVcd4+CqyoTjzL9PGUpbXbv++wzCLHHHKf6z9x3wVnU7SMH0bHOPOch8fcvKpTe4kliKUVdyRmZ5msaXPIAGpWm4tiBnffRoyaPxPSV4YhiD5buleLDPma0Lne1W1vjA6ClJ3Tk+TTe5w3o6ePvsRgqSvLaUalWeJeSGkfm37bSy21xsVMojjN44yc+Dn6F3UNB2868tjsO8bN41w5MefW/gOzXuWKw6hfUSCOMZnU8GjiT0LpGG0LKeNsbNBqeJPEnpXIJzlmZLWkqNPq4/OL8S7UIisGcEREAV5Q1u5yXeT7v7KzUFDjV1Y33xzfSHeixShQXLtgpUKVcMohFKhAERSgChSiAhSiIArLFcNiqojFM3eae8HgWngVerE7TYw2ip3ym295MY53nTsGZPQFx2tqeoKTklHbuOQ49hopKiSASCTdIzAtqL2cPSHG39lThmKz0zt6GQt5xq09bTl+KtJHlzi5xJc4kknUkm5J7VSs++t0fR5ezaWpvNBt83IVEDgfSjNx6riLd5WZi2woXfni3rjf+AXN6KglnJELC4tFzYgWHaVVJhVQ3Wnn/ZuPuUiqzKs8LQb4PvOjSbXULfz9+qN5/pWLrtvYhcQQveed5DR3C5PsWmswyoOlPN+zd8FeU2zFW/WMMHO9wHsFz7F3rJvYjn6ahH6n6nli+O1FV9K/k8GNyb3ce2688KwmWpdaNuXFx8kdvE9AW0YdshEyxmcZDzDkt+J9i2KKJrAGtaGgaACwHYiptu8jk8VCCy0l6aFnhGFx0rN1guT5Tjq4/DoWQRQpkrFBtt3YREXTgREQBQVKgoDaERFAXSFKhSrhkkIpUIAilEAUKVCAIpYwuNgFdMo+cqKpXp0/qf3LNDCVq2sI6cdi8yzXItusc+V1Jax3zUV2szycfOf2kWHQOldonw9j2OYd+zgWkg2NjlkRoViMO2Jw6nIcylaSNC9zpLdQeSPYqNbHQkrRua2E6NqU5Zp2vu+WOFJ1La/Cf4v/AHKTxdvo4/GW+ssb36d3xattjsM8bL4545MZy6X8O7XtC7T7duZPVkqabe42bZ3DPk0IafLdyn9fN2ad6yqhFcSsrIxJScm2wiIunklQiIAiIgCIiAIiIAoKlQUBtCIigLosi+c/GO9J3rFU755z3r1+o5ev4PH7d/l6fk+jLpvL5zVJaE/UcvX8D9u/y9PyfRoKqWheAKgjmqawPBsIYyLG3nnmXbDgFP6DvXK9rER4Ecuj530a9vuagqooy42Cu5aEB7hfIOIAPNfnXtHGGiwVevjoJWhq/Ynw3RVSUk6ukfV+QjYGiwVSLEbVY22hpZJzYutuxtPnSHyR1cT0ArJ1k+bPorRhHTRIsdqts6fD+QbySkXEbSMhwL3eaO89C1ujxzG8Uje6jjghjuW797EniGvde56Q0da5rUTukc6SR5c5xLnOJzJOZJXT/BptbSxU7KKoeInsc/dLsmvEj3PHK0abuIz1yVmVLJC6V2V1Vzys3ZHPa3B6qKcQzxSNle7Lfz3yTcuD8w4cSQSuhYbRtgibE3Ro15zxPaV0WaFkgs9rXDUXAPaFqeNUbYZbM0IuBzZkW9isYWupOz2mf0jQlGKkn2THoiK+ZAREQBERAEREAREQBERAFBUqCgNoREUBdPnBF4/KRzFPlI5ioTQPZF4/KRzFR8oHMUB2H/Tr/wBus+4j/mFd4K4H/pxkvV1n3DP5n913veQGrVPlv+073leS9ary3/ad7yvJZb2mmthZYzikVHA+eYkMYOGpJNg0DiSSAuI7WbSy4jKHPG5G24jjBvug6kni4/2HTnfCntB4+cUsZ+bhPLt50trH1QbdZPMtRwilbPUQQvdutklYwnmDnAG3TmrlGmorM9pUrVG3lWw2DwYsgdiLBUbp5DjGHWt427ba8bb9unpsuw4zglNWN3KmFj+YkWc37Lxym9hWKqtg8NfH4v5K1ltHsJbILcS/Vx+1dXmA4XNRxGN9VLUAO5JktvNZYWbcZu4/AKCpNSeZNk1ODisrWh7VFPJTxNbS7obG2wZbRrRYBvUAtWnndI4uebkrYKnaFm4Qxrt4gjMCw6dVrYWhhKcop5o2fHeYvSFWE5Lq5XXDcuAREVwzgiIgCIiAIiIAiIgCIiAKCpUFAbQiIoC6fMCIrvxnLabM07NFCaBaIvdr+S4WbmR19iTvuG+Tpw/FAdW/06/9qs+5Z/MC7qvnvwHYoylqap0jXkOhaBugHzweJC7F+WVP9XN6rP8A6XuMXYilUhF2bPeo8t32j71re22PigpHSNI8a/kRD9MjyrczRc9gHFeFTj0pe9zXjdLnEbzRkLki/YuWbX4++vqN5xG4wbkYAsLXzd1k+wBU3hZKV5WsWoY2FRNQvf5zMGSTckkk5kk5knUk8665sFsfQyUMU00LJnyguJdfk2cQGtAORFszrdciWx7I7W1OHvDGDxkTnZxE6k5XYfNd7DzcVLVjKUeyxScU+0jr9HR1dPKGiYTU1jlJczRnLdaJB9I3pdyukq9di0AveQXGosb9nOqY8ZgLN8vtlm0+UDzWGvYtQlcHOcQLXJNua5vZRUMM6jedNW8DziscqKj1TTv492zmVVMm+97gLbzibdZuvNSoWqtDAbu7sIiLpwIiIAiIgCIiAIiIAiIgCgqVBQG0IiKAunNvyJofq3/tHJ+RND9W/wDaO+K2JFLkjwK/XVP5M178iqH6p37V3xU/kZQfVO/aP+K2BEyR4HOtqfyfmY3CsBp6RznQMLS4WPLccr34lZJEXUkth4cm3dsghazi+yTH3dTkMd6J8k9Xo+5bOiOKe09QqSg7xZyqrpJIXbkrC09PHpB0I6lsGxeGb7zO8clmTOl3E9g9p6Ft1XSRzNLJWBw6feDwPUqqWnZExrI22a0WAUSpWlcs1MXmha1meyhEUxTCIiAIiIAiIgCIiAIiIAiIgCIiAKCpUFAbQiIoC6awiIpykEREAREQBERAEREBWxpcQALkkAdZVycMn+qdkbHTXPLXo/y6tGuIIINiDcdYXv8AL5frX6g68W7tj2bjPVC47npZd5JoZd4tLLEEAgkCxN7DXoPcqv8AbZvQ5/Obw1OummfSF5iskGe+b5Z5X5IsM+gZdSqNbKfzjtCOx1rj2DuTU72efoScOmvbczva283MgXyzzyIUS0UjWlzm2A1zGV7Ecc73GiDEJRf5w5m50zI07kdWyG4Lyb63t0fAdyajsc/Qqbh0xNgziR5TdRrxyt78tVbyxlh3XCxy4g6gEZjoIXr8vl+sOt+Gp17/AG6rxe8uNybnIdwsPYAmu848u4pREXTyEREAREQBERAFBUqCgNoREUBdNZREU5SCIiAIiIAiIgCIiAlERAQpREBClEQ6FCIhwIiIAiIgCIiAIiIAhREBsyIigLp//9k=)\n",
        "## Business Impact:\n",
        "\n",
        "\n",
        "The given analysis conveys the following insights for the business:\n",
        "\n",
        "\n",
        "* Although the world has been focussing more on global warming issue, it needs to be more awared and take more steps to the current alarming situation.\n",
        "\n",
        "\n",
        "* Some continents are facing more of global warming (such as Europe). These continents or groups of nations must be more involved in activities/ plans that help in countering the global warming problem.\n",
        "\n",
        "\n",
        "* Happiness of a nation is highly correlated with factors  such as income per capita. So focussing on factors impacting income such as corruption will have a positive impact on the happiness level of an economy.\n",
        "\n",
        "\n",
        "\n",
        "\n",
        "\n",
        "\n",
        "\n",
        "\n"
      ],
      "metadata": {
        "id": "ecXkugpkKZET"
      }
    },
    {
      "cell_type": "markdown",
      "source": [
        "### To be done\n",
        "\n",
        "\n",
        "* ORGANIZE THE WORK ON THIS TEST BASED NOTEBOOK. done\n",
        "\n",
        "* Reading the anova test related from tim frost book. and go over the new project\n",
        "\n"
      ],
      "metadata": {
        "id": "9vyCrqFRoW7Z"
      }
    }
  ]
}